{
 "cells": [
  {
   "cell_type": "code",
   "execution_count": 1,
   "id": "83601720-4436-42aa-8ec2-f4d8216519d1",
   "metadata": {},
   "outputs": [
    {
     "name": "stdout",
     "output_type": "stream",
     "text": [
      "Requirement already satisfied: pip in /usr/local/lib/python3.10/dist-packages (24.0)\n",
      "\u001b[33mWARNING: Running pip as the 'root' user can result in broken permissions and conflicting behaviour with the system package manager. It is recommended to use a virtual environment instead: https://pip.pypa.io/warnings/venv\u001b[0m\u001b[33m\n",
      "\u001b[0m"
     ]
    }
   ],
   "source": [
    "!python3 -m pip install --upgrade pip"
   ]
  },
  {
   "cell_type": "code",
   "execution_count": 2,
   "id": "118d1bfb-7d2f-495e-b2a3-43802d79be88",
   "metadata": {
    "scrolled": true,
    "tags": []
   },
   "outputs": [
    {
     "name": "stdout",
     "output_type": "stream",
     "text": [
      "Requirement already satisfied: arxiv==2.1.0 in /usr/local/lib/python3.10/dist-packages (2.1.0)\n",
      "Requirement already satisfied: feedparser==6.0.10 in /usr/local/lib/python3.10/dist-packages (from arxiv==2.1.0) (6.0.10)\n",
      "Requirement already satisfied: requests==2.31.0 in /usr/local/lib/python3.10/dist-packages (from arxiv==2.1.0) (2.31.0)\n",
      "Requirement already satisfied: sgmllib3k in /usr/local/lib/python3.10/dist-packages (from feedparser==6.0.10->arxiv==2.1.0) (1.0.0)\n",
      "Requirement already satisfied: charset-normalizer<4,>=2 in /usr/local/lib/python3.10/dist-packages (from requests==2.31.0->arxiv==2.1.0) (2.1.1)\n",
      "Requirement already satisfied: idna<4,>=2.5 in /usr/local/lib/python3.10/dist-packages (from requests==2.31.0->arxiv==2.1.0) (3.4)\n",
      "Requirement already satisfied: urllib3<3,>=1.21.1 in /usr/local/lib/python3.10/dist-packages (from requests==2.31.0->arxiv==2.1.0) (1.26.13)\n",
      "Requirement already satisfied: certifi>=2017.4.17 in /usr/local/lib/python3.10/dist-packages (from requests==2.31.0->arxiv==2.1.0) (2022.12.7)\n",
      "\u001b[33mWARNING: Running pip as the 'root' user can result in broken permissions and conflicting behaviour with the system package manager. It is recommended to use a virtual environment instead: https://pip.pypa.io/warnings/venv\u001b[0m\u001b[33m\n",
      "\u001b[0mRequirement already satisfied: python-dotenv in /usr/local/lib/python3.10/dist-packages (1.0.1)\n",
      "Requirement already satisfied: tiktoken in /usr/local/lib/python3.10/dist-packages (0.6.0)\n",
      "Requirement already satisfied: regex>=2022.1.18 in /usr/local/lib/python3.10/dist-packages (from tiktoken) (2023.12.25)\n",
      "Requirement already satisfied: requests>=2.26.0 in /usr/local/lib/python3.10/dist-packages (from tiktoken) (2.31.0)\n",
      "Requirement already satisfied: charset-normalizer<4,>=2 in /usr/local/lib/python3.10/dist-packages (from requests>=2.26.0->tiktoken) (2.1.1)\n",
      "Requirement already satisfied: idna<4,>=2.5 in /usr/local/lib/python3.10/dist-packages (from requests>=2.26.0->tiktoken) (3.4)\n",
      "Requirement already satisfied: urllib3<3,>=1.21.1 in /usr/local/lib/python3.10/dist-packages (from requests>=2.26.0->tiktoken) (1.26.13)\n",
      "Requirement already satisfied: certifi>=2017.4.17 in /usr/local/lib/python3.10/dist-packages (from requests>=2.26.0->tiktoken) (2022.12.7)\n",
      "\u001b[33mWARNING: Running pip as the 'root' user can result in broken permissions and conflicting behaviour with the system package manager. It is recommended to use a virtual environment instead: https://pip.pypa.io/warnings/venv\u001b[0m\u001b[33m\n",
      "\u001b[0mRequirement already satisfied: openai==1.3.4 in /usr/local/lib/python3.10/dist-packages (1.3.4)\n",
      "Requirement already satisfied: anyio<4,>=3.5.0 in /usr/local/lib/python3.10/dist-packages (from openai==1.3.4) (3.7.1)\n",
      "Requirement already satisfied: distro<2,>=1.7.0 in /usr/lib/python3/dist-packages (from openai==1.3.4) (1.7.0)\n",
      "Requirement already satisfied: httpx<1,>=0.23.0 in /usr/local/lib/python3.10/dist-packages (from openai==1.3.4) (0.27.0)\n",
      "Requirement already satisfied: pydantic<3,>=1.9.0 in /usr/local/lib/python3.10/dist-packages (from openai==1.3.4) (1.10.13)\n",
      "Requirement already satisfied: tqdm>4 in /usr/local/lib/python3.10/dist-packages (from openai==1.3.4) (4.66.1)\n",
      "Requirement already satisfied: typing-extensions<5,>=4.5 in /usr/local/lib/python3.10/dist-packages (from openai==1.3.4) (4.9.0)\n",
      "Requirement already satisfied: idna>=2.8 in /usr/local/lib/python3.10/dist-packages (from anyio<4,>=3.5.0->openai==1.3.4) (3.4)\n",
      "Requirement already satisfied: sniffio>=1.1 in /usr/local/lib/python3.10/dist-packages (from anyio<4,>=3.5.0->openai==1.3.4) (1.3.0)\n",
      "Requirement already satisfied: exceptiongroup in /usr/local/lib/python3.10/dist-packages (from anyio<4,>=3.5.0->openai==1.3.4) (1.2.0)\n",
      "Requirement already satisfied: certifi in /usr/local/lib/python3.10/dist-packages (from httpx<1,>=0.23.0->openai==1.3.4) (2022.12.7)\n",
      "Requirement already satisfied: httpcore==1.* in /usr/local/lib/python3.10/dist-packages (from httpx<1,>=0.23.0->openai==1.3.4) (1.0.4)\n",
      "Requirement already satisfied: h11<0.15,>=0.13 in /usr/local/lib/python3.10/dist-packages (from httpcore==1.*->httpx<1,>=0.23.0->openai==1.3.4) (0.14.0)\n",
      "\u001b[33mWARNING: Running pip as the 'root' user can result in broken permissions and conflicting behaviour with the system package manager. It is recommended to use a virtual environment instead: https://pip.pypa.io/warnings/venv\u001b[0m\u001b[33m\n",
      "\u001b[0mRequirement already satisfied: duckduckgo-search==4.4 in /usr/local/lib/python3.10/dist-packages (4.4)\n",
      "Requirement already satisfied: docstring-inheritance>=2.1.2 in /usr/local/lib/python3.10/dist-packages (from duckduckgo-search==4.4) (2.1.2)\n",
      "Requirement already satisfied: click>=8.1.7 in /usr/local/lib/python3.10/dist-packages (from duckduckgo-search==4.4) (8.1.7)\n",
      "Requirement already satisfied: curl-cffi>=0.6.0b7 in /usr/local/lib/python3.10/dist-packages (from duckduckgo-search==4.4) (0.6.1)\n",
      "Requirement already satisfied: lxml>=4.9.3 in /usr/local/lib/python3.10/dist-packages (from duckduckgo-search==4.4) (4.9.4)\n",
      "Requirement already satisfied: nest-asyncio>=1.6.0 in /usr/local/lib/python3.10/dist-packages (from duckduckgo-search==4.4) (1.6.0)\n",
      "Requirement already satisfied: cffi>=1.12.0 in /usr/local/lib/python3.10/dist-packages (from curl-cffi>=0.6.0b7->duckduckgo-search==4.4) (1.16.0)\n",
      "Requirement already satisfied: certifi in /usr/local/lib/python3.10/dist-packages (from curl-cffi>=0.6.0b7->duckduckgo-search==4.4) (2022.12.7)\n",
      "Requirement already satisfied: pycparser in /usr/local/lib/python3.10/dist-packages (from cffi>=1.12.0->curl-cffi>=0.6.0b7->duckduckgo-search==4.4) (2.21)\n",
      "\u001b[33mWARNING: Running pip as the 'root' user can result in broken permissions and conflicting behaviour with the system package manager. It is recommended to use a virtual environment instead: https://pip.pypa.io/warnings/venv\u001b[0m\u001b[33m\n",
      "\u001b[0m"
     ]
    }
   ],
   "source": [
    "!pip3 install arxiv==2.1.0\n",
    "!pip3 install python-dotenv tiktoken\n",
    "# !pip install openai==0.27.8\n",
    "# !pip install openai==1.2.3\n",
    "!pip install openai==1.3.4\n",
    "!pip install -U duckduckgo-search==4.4"
   ]
  },
  {
   "cell_type": "code",
   "execution_count": 3,
   "id": "62a2e0b1-0475-4dc6-b947-7ae2df8725e5",
   "metadata": {},
   "outputs": [],
   "source": [
    "import os\n",
    "import json\n",
    "import datetime as dt\n",
    "import yaml\n",
    "import warnings\n",
    "\n",
    "\n",
    "import arxiv\n",
    "import openai\n",
    "from openai import OpenAI\n",
    "from dotenv import load_dotenv\n",
    "\n",
    "from duckduckgo_search import DDGS, AsyncDDGS\n",
    "import asyncio\n",
    "\n",
    "# すべての警告を無視する\n",
    "warnings.filterwarnings('ignore')"
   ]
  },
  {
   "cell_type": "code",
   "execution_count": 4,
   "id": "1c65f19d-5dfd-4dfb-b7d9-3c5fef3d3712",
   "metadata": {},
   "outputs": [],
   "source": [
    "from contextlib import contextmanager\n",
    "from time import time\n",
    "\n",
    "class Timer:\n",
    "    \"\"\"処理時間を表示するクラス\n",
    "    with Timer(prefix=f'pred cv={i}'):\n",
    "        y_pred_i = predict(model, loader=test_loader)\n",
    "    \n",
    "    with Timer(prefix='fit fold={} '.format(i)):\n",
    "        clf.fit(x_train, y_train, \n",
    "                eval_set=[(x_valid, y_valid)],  \n",
    "                early_stopping_rounds=100,\n",
    "                verbose=verbose)\n",
    "\n",
    "    with Timer(prefix='fit fold={} '.format(i), verbose=500):\n",
    "        clf.fit(x_train, y_train, \n",
    "                eval_set=[(x_valid, y_valid)],  \n",
    "                early_stopping_rounds=100,\n",
    "                verbose=verbose)\n",
    "    \"\"\"\n",
    "    def __init__(self, logger=None, format_str='{:.3f}[s]', prefix=None, suffix=None, sep=' ', verbose=0):\n",
    "\n",
    "        if prefix: format_str = str(prefix) + sep + format_str\n",
    "        if suffix: format_str = format_str + sep + str(suffix)\n",
    "        self.format_str = format_str\n",
    "        self.logger = logger\n",
    "        self.start = None\n",
    "        self.end = None\n",
    "        self.verbose = verbose\n",
    "\n",
    "    @property\n",
    "    def duration(self):\n",
    "        if self.end is None:\n",
    "            return 0\n",
    "        return self.end - self.start\n",
    "\n",
    "    def __enter__(self):\n",
    "        self.start = time()\n",
    "\n",
    "    def __exit__(self, exc_type, exc_val, exc_tb):\n",
    "        self.end = time()\n",
    "        out_str = self.format_str.format(self.duration)\n",
    "        if self.logger:\n",
    "            self.logger.info(out_str)\n",
    "        else:\n",
    "            print(out_str)"
   ]
  },
  {
   "cell_type": "code",
   "execution_count": 5,
   "id": "53384c98-e219-4a74-a4ab-f3113a1dac61",
   "metadata": {},
   "outputs": [
    {
     "data": {
      "text/plain": [
       "True"
      ]
     },
     "execution_count": 5,
     "metadata": {},
     "output_type": "execute_result"
    }
   ],
   "source": [
    "load_dotenv()"
   ]
  },
  {
   "cell_type": "code",
   "execution_count": 6,
   "id": "f7cc6bde-69b1-4539-90f8-ca63555f6450",
   "metadata": {},
   "outputs": [],
   "source": [
    "openai.api_key = os.getenv(\"OPENAI_API_KEY\")"
   ]
  },
  {
   "cell_type": "code",
   "execution_count": 7,
   "id": "0041a7ec-b064-486c-850c-abfefaf46fa7",
   "metadata": {},
   "outputs": [],
   "source": [
    "MODEL_NAME = \"gpt-3.5-turbo-0125\"\n",
    "# MODEL_NAME = \"gpt-3.5-turbo-instruct\"\n",
    "# MODEL_NAME = \"gpt-4-0125-preview\"\n",
    "TEMPERATURE = 0.7\n",
    "# OpenAIクライアントの初期化\n",
    "client = OpenAI()"
   ]
  },
  {
   "cell_type": "code",
   "execution_count": 8,
   "id": "94024e8f-22be-464e-86ba-09c40641bd22",
   "metadata": {},
   "outputs": [],
   "source": [
    "# 各ノードの名称を定義\n",
    "SPLIT_SEAECH_DECISION = \"split_search_decision\"\n",
    "# 質問\n",
    "question = \"\"\"最近の世界経済動向を分析し、これから市場で注目すべき3つの産業を予測してください。それぞれの産業が注目される理由も含めて説明してください。\n",
    "また、将来発展するような市場についても教えてください。\"\"\"\n",
    "search_query = \"世界経済動向, 市場, 注目, 産業, 予測, 理由, 発展, 市場の将来\"\n",
    "# search_query = \"世界経済動向,  市場,  注目,  産業,  予測,  理由,  発展, 2024-02-21から2025-01-01までの 市場の\""
   ]
  },
  {
   "cell_type": "markdown",
   "id": "9f84c86c-4789-4fc6-a96c-1a601dce938d",
   "metadata": {},
   "source": [
    "手順 1: キーワードの意味を理解する\n",
    "まず、質問から重要なキーワードやフレーズを把握し、それぞれがどのような情報を求めているのかを理解する必要があります。\n",
    "\n",
    "手順 2: 関連性のあるキーワードをグループ化する\n",
    "抽出したキーワードやフレーズを、意味的に関連するもの同士でグループ化します。このプロセスにより、個別の検索クエリに分割する際の基準が得られます。\n",
    "\n",
    "手順 3: 検索クエリを形成する\n",
    "各グループから具体的な検索クエリを形成します。この際、検索エンジンが理解しやすいように、必要に応じてキーワードを組み合わせたり、検索クエリを具体化したりします。"
   ]
  },
  {
   "cell_type": "code",
   "execution_count": 9,
   "id": "46a72171-c8b3-47f5-b32c-df6aa1b95cbd",
   "metadata": {},
   "outputs": [],
   "source": [
    "# エージェントに追加するシステムプロンプト作成関数\n",
    "def create_agent_system(\n",
    "        system_prompt: list,  # システムからエージェントへの初期プロンプト\n",
    "        team_members: str,   # メンバーの役割\n",
    "):\n",
    "    # システムプロンプトに自律的な働きに関する指示を追加\n",
    "    system_prompt.append({\"role\" : \"system\", \"content\" : \"Work autonomously according to your specialty, using the tools available to you.\"})\n",
    "    system_prompt.append({\"role\" : \"system\", \"content\" : \" Do not ask for clarification.\"})\n",
    "    system_prompt.append({\"role\" : \"system\", \"content\" : \" Your other team members (and other teams) will collaborate with you with their own specialties.\"})\n",
    "    system_prompt.append({\"role\" : \"system\", \"content\" : f\" You are chosen for a reason! You are one of the following team members: {team_members}.\"})\n",
    "    \"\"\"\n",
    "    あなたの専門分野に従って自律的に働いてください。使用可能なツールを使ってください\n",
    "    確認のために質問をしないでください\n",
    "    あなたの他のチームメンバーや他のチームも、それぞれの専門分野であなたと協力します\n",
    "    あなたが選ばれたのには理由があります！あなたは以下のチームメンバーの一人です: {team_members}\n",
    "    \"\"\"\n",
    "    # エージェントを実行するsystem_promptを返す\n",
    "    return system_prompt"
   ]
  },
  {
   "cell_type": "code",
   "execution_count": 10,
   "id": "14331b0a-7ae0-40b4-935e-a5712dee8fa6",
   "metadata": {},
   "outputs": [],
   "source": [
    "def split_search_query(model_name, question, search_query):\n",
    "    # 検索判断エージェントを呼び出し、結果を取得\n",
    "    prompt = [{'role': 'system', 'content': \"Based on the following 'question', please group the 'search_query' based on relevance and format it into a list that can be used in Python.\"}]\n",
    "    \n",
    "    split_s_dec_prompt = create_agent_system(prompt, SPLIT_SEAECH_DECISION)\n",
    "    split_s_dec_prompt.append({\"role\": \"system\", \"content\": 'Please generate a JSON from the following input text. Use \"split_search_query_result\" as the schema, and \"the result of grouping the search_query based on relevance into a list format that can be used in Python\" as the key. Generate it in the format {\"split_search_query_result\": the result of grouping the search_query based on relevance into a list format that can be used in Python}.'})\n",
    "    \n",
    "    split_s_dec_prompt.append({\"role\": \"user\", \"content\": 'Generate a JSON from the following input text. Use \"split_search_query_result\" as the schema, and use the judgment result as the key, to create it in the format {\"split_search_query_result\": the result of grouping the search_query based on relevance into a list format that can be used in Python}.'})\n",
    "    split_s_dec_prompt.append({\"role\": \"user\", \"content\": f\"Input text: {question}\"})\n",
    "    split_s_dec_prompt.append({\"role\": \"user\", \"content\": f\"Search queries extracted from the input text: {search_query}\"})\n",
    "    \"\"\"\n",
    "    システム\n",
    "    あなたは、以下の question に基づいて、 search_query を関連性に基づいてグループ化して python で使用できるリストの形にしてください。\n",
    "    \n",
    "    あなたの専門分野に従って自律的に働いてください。使用可能なツールを使ってください\n",
    "    確認のために質問をしないでください\n",
    "    あなたの他のチームメンバーや他のチームも、それぞれの専門分野であなたと協力します\n",
    "    あなたが選ばれたのには理由があります！あなたは以下のチームメンバーの一人です: {team_members}\n",
    "    \n",
    "    以下の入力されたテキストからJSONを生成してください。スキーマとして「split_search_query_result」、キーとして「search_query を関連性に基づいてグループ化して python で使用できるリストの形した結果」を使用し、{\"split_search_query_result\": search_query を関連性に基づいてグループ化して python で使用できるリストの形した結果}の形式で生成してください。\n",
    "    user\n",
    "    以下の入力されたテキストからJSONを生成する。スキーマとして \"split_search_query_result\"を使用し、キーとして判断結果を使用して、{\"split_search_query_result\": search_query を関連性に基づいてグループ化して python で使用できるリストの形した結果}というフォーマットで生成します。\n",
    "    \n",
    "    入力されたテキスト: {question}\n",
    "    入力されたテキストから抽出した検索クエリ: search_query\n",
    "    \"\"\"\n",
    "    \n",
    "    # Research用のプロンプトテンプレートを作成\n",
    "    response = client.chat.completions.create(\n",
    "        model=model_name, # model = \"deployment_name\".\n",
    "        messages=split_s_dec_prompt,\n",
    "        response_format={ \"type\": \"json_object\" },\n",
    "        temperature=TEMPERATURE,\n",
    "    )\n",
    "    split_search_query_str = response.choices[0].message.content\n",
    "    print(split_search_query_str)\n",
    "    \n",
    "    # JSON形式の文字列を辞書に変換\n",
    "    split_search_query = json.loads(split_search_query_str)\n",
    "    \n",
    "    # 出力と新しいメッセージをステートに反映\n",
    "    return {\n",
    "        \"output\": split_search_query[\"split_search_query_result\"],\n",
    "    }\n"
   ]
  },
  {
   "cell_type": "code",
   "execution_count": 11,
   "id": "c39d3f83-44c7-4ad9-86ef-fb7744da7c0b",
   "metadata": {},
   "outputs": [
    {
     "name": "stdout",
     "output_type": "stream",
     "text": [
      "{\n",
      "    \"split_search_query_result\": {\n",
      "        \"Relevance Group 1\": [\"世界経済動向\", \"市場\", \"市場の将来\"],\n",
      "        \"Relevance Group 2\": [\"産業\", \"予測\", \"理由\", \"発展\", \"注目\"]\n",
      "    }\n",
      "}\n"
     ]
    }
   ],
   "source": [
    "# 検索クエリの分割を実行\n",
    "split_queries = split_search_query(MODEL_NAME, question, search_query)"
   ]
  },
  {
   "cell_type": "code",
   "execution_count": 12,
   "id": "0604a110-6e97-4fdb-b978-fc50883deff0",
   "metadata": {},
   "outputs": [
    {
     "name": "stdout",
     "output_type": "stream",
     "text": [
      "Relevance Group 1: ['世界経済動向', '市場', '市場の将来']\n",
      "Relevance Group 2: ['産業', '予測', '理由', '発展', '注目']\n"
     ]
    }
   ],
   "source": [
    "# split_search_query_result 内の全てのキーと値に順番にアクセス\n",
    "for key, values in split_queries[\"output\"].items():\n",
    "    print(f\"{key}: {values}\")"
   ]
  },
  {
   "cell_type": "code",
   "execution_count": null,
   "id": "b862c1ef-caa4-439e-836b-370c79e7c7dd",
   "metadata": {},
   "outputs": [],
   "source": []
  }
 ],
 "metadata": {
  "kernelspec": {
   "display_name": "Python 3 (ipykernel)",
   "language": "python",
   "name": "python3"
  },
  "language_info": {
   "codemirror_mode": {
    "name": "ipython",
    "version": 3
   },
   "file_extension": ".py",
   "mimetype": "text/x-python",
   "name": "python",
   "nbconvert_exporter": "python",
   "pygments_lexer": "ipython3",
   "version": "3.10.12"
  }
 },
 "nbformat": 4,
 "nbformat_minor": 5
}
