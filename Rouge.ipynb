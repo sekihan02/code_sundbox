{
 "cells": [
  {
   "cell_type": "code",
   "execution_count": 1,
   "id": "2d58df35-078c-4aba-86f6-4271bf9dc996",
   "metadata": {},
   "outputs": [
    {
     "name": "stdout",
     "output_type": "stream",
     "text": [
      "rouge-1:0.7272727272727273\n"
     ]
    }
   ],
   "source": [
    "import collections\n",
    "\n",
    "# ROUGE-Nの計算関数（英語版）\n",
    "def rouge_n_english(reference, candidate, n=1):\n",
    "    # n-gramの生成\n",
    "    def ngrams(words, n):\n",
    "        return zip(*[words[i:] for i in range(n)])\n",
    "\n",
    "    reference_ngrams = collections.Counter(ngrams(reference.split(), n))\n",
    "    candidate_ngrams = collections.Counter(ngrams(candidate.split(), n))\n",
    "    \n",
    "    # 共通のn-gramのカウント\n",
    "    overlap = sum((reference_ngrams & candidate_ngrams).values())\n",
    "    \n",
    "    # Recallの計算\n",
    "    return overlap / max(len(reference_ngrams), 1)\n",
    "\n",
    "# 英語の例文\n",
    "example_text_english = \"The cat sat on the mat. It was a sunny day.\"\n",
    "example_summary_english = \"The cat was on the mat on a sunny day.\"\n",
    "\n",
    "# ROUGE-1スコアの計算\n",
    "rouge_1_score_english = rouge_n_english(example_text_english, example_summary_english, n=1)\n",
    "print(f\"rouge-1:{rouge_1_score_english}\")\n"
   ]
  },
  {
   "cell_type": "code",
   "execution_count": 2,
   "id": "4f7cbb19-a39c-4404-a557-761476e941f3",
   "metadata": {},
   "outputs": [
    {
     "name": "stdout",
     "output_type": "stream",
     "text": [
      "Requirement already satisfied: mecab-python3 in /usr/local/lib/python3.10/dist-packages (1.0.8)\n",
      "Requirement already satisfied: unidic-lite in /usr/local/lib/python3.10/dist-packages (1.0.8)\n",
      "\u001b[33mWARNING: Running pip as the 'root' user can result in broken permissions and conflicting behaviour with the system package manager. It is recommended to use a virtual environment instead: https://pip.pypa.io/warnings/venv\u001b[0m\u001b[33m\n",
      "\u001b[0m"
     ]
    }
   ],
   "source": [
    "!pip3 install mecab-python3 unidic-lite  # または unidic"
   ]
  },
  {
   "cell_type": "code",
   "execution_count": 3,
   "id": "9245e771-2501-42d0-b22a-d42ba2528001",
   "metadata": {},
   "outputs": [],
   "source": [
    "# テキストとその要約\n",
    "original_text = \"ここに元のテキストを入れます\"\n",
    "summary_text = \"ここに要約されたテキストを入れます\"\n",
    "\n",
    "\n",
    "# ユーザーが提供した日本語のテキストとその要約\n",
    "original_text = \"\"\"\n",
    "禁闕の変（きんけつのへん）は、室町時代の嘉吉3年9月23日（1443年10月16日）夜に京都で起こった後花園天皇の禁闕（皇居内裏）への襲撃事件である。吉野朝廷（南朝）復興を唱える勢力（後南朝）が御所に乱入し、三種の神器のうち剣璽の二つを奪い比叡山へ逃れたが、26日までに鎮圧された。幕府は宝剣の奪還には成功したが、神璽はそのまま奪い去られ、長禄元年（1457年）に赤松氏が後南朝より奪い返し北朝の手に戻る（長禄の変）まで15年に渡って後南朝の下にあった。嘉吉の変（かきつのへん）という呼び方もあるが、嘉吉元年（1441年）の守護赤松満祐による6代将軍足利義教の殺害事件「嘉吉の変」と混同を招くため、避けられる傾向にある[1]。\n",
    "\"\"\"\n",
    "\n",
    "summary_text = \"\"\"\n",
    "「禁闕の変」は、室町時代の嘉吉3年（1443年）に起こった、後花園天皇の禁闕（皇居内裏）への襲撃事件です。この事件は、吉野朝廷（南朝）復興を目指す後南朝の勢力によって引き起こされました。彼らは御所に乱入し、三種の神器のうち剣と璽を奪い、比叡山へ逃れましたが、26日までに鎮圧されました。\n",
    "\"\"\""
   ]
  },
  {
   "cell_type": "code",
   "execution_count": 4,
   "id": "2fec4872-ab6c-4a09-80ff-ffab6b1354db",
   "metadata": {},
   "outputs": [],
   "source": [
    "import MeCab"
   ]
  },
  {
   "cell_type": "code",
   "execution_count": 5,
   "id": "e6d9a998-c3ab-4ac0-a407-2a22377f91dd",
   "metadata": {},
   "outputs": [],
   "source": [
    "# MeCabの初期化\n",
    "mecab = MeCab.Tagger()\n",
    "\n",
    "# 名詞を抽出する関数\n",
    "def extract_nouns(text):\n",
    "    mecab.parse('')  # 空文字列でパースを初期化\n",
    "    node = mecab.parseToNode(text)\n",
    "    nouns = []\n",
    "    while node:\n",
    "        if node.feature.split(',')[0] == '名詞':\n",
    "            nouns.append(node.surface)\n",
    "        node = node.next\n",
    "    return nouns\n",
    "\n"
   ]
  },
  {
   "cell_type": "markdown",
   "id": "c04e5532-8e2b-4a04-93e4-28db84732bbe",
   "metadata": {},
   "source": [
    "- N-gramの生成関数定義:\n",
    "\n",
    "    - ngramsという名の関数を定義します。この関数は、与えられた単語のリスト（words）とn-gramのサイズ（n）を入力として受け取ります。\n",
    "    - この関数は、入力された単語リストからn-gramを生成し、それらを返します。\n",
    "- 参照テキストのn-gramカウント:\n",
    "\n",
    "    - reference_ngramsという変数を作成し、参照テキスト（reference）から生成されたn-gramのカウントを保持します。\n",
    "    - ngrams関数を使用して参照テキストからn-gramを生成し、それらの出現回数をカウントします。\n",
    "- 候補テキストのn-gramカウント:\n",
    "\n",
    "    - candidate_ngramsという変数を作成し、候補テキスト（candidate）から生成されたn-gramのカウントを保持します。\n",
    "    - 同じくngrams関数を使用して候補テキストからn-gramを生成し、それらの出現回数をカウントします。\n",
    "- n-gramの重複カウント:\n",
    "\n",
    "    - overlapという変数を作成し、参照テキストと候補テキストのn-gramのうち、両者に共通するn-gramの合計カウントを計算します。\n",
    "    - この計算では、&演算子を使用して二つのカウンター（reference_ngramsとcandidate_ngrams）の共通要素のみを取り出し、その数を合計します。\n",
    "- Recallの計算:\n",
    "\n",
    "    - 最終的に、共通するn-gramの数（overlap）を参照テキストのn-gramの総数で割ることにより、ROUGE-Nのスコア（Recall）を計算します。\n",
    "    - このスコアは、候補テキストが参照テキストのどれだけをカバーしているかを示します。"
   ]
  },
  {
   "cell_type": "code",
   "execution_count": 6,
   "id": "bf688e19-6223-4948-aaa1-9378994fc9c9",
   "metadata": {},
   "outputs": [],
   "source": [
    "# ROUGE-Nスコアを計算する関数\n",
    "def rouge_n(reference, candidate, n=1):\n",
    "    # n-gramの生成\n",
    "    def ngrams(words, n):\n",
    "        return zip(*[words[i:] for i in range(n)])\n",
    "\n",
    "    reference_ngrams = collections.Counter(ngrams(reference, n))\n",
    "    candidate_ngrams = collections.Counter(ngrams(candidate, n))\n",
    "    \n",
    "    # 共通のn-gramのカウント\n",
    "    overlap = sum((reference_ngrams & candidate_ngrams).values())\n",
    "    \n",
    "    # Recallの計算\n",
    "    return overlap / max(len(reference_ngrams), 1)\n",
    "\n",
    "# 名詞の抽出\n",
    "nouns_original = extract_nouns(original_text)\n",
    "nouns_summary = extract_nouns(summary_text)"
   ]
  },
  {
   "cell_type": "code",
   "execution_count": 7,
   "id": "81b1c048-6702-4dbd-a7a6-1b57aeceb656",
   "metadata": {},
   "outputs": [
    {
     "data": {
      "text/plain": [
       "['禁闕', '変', 'けつ', 'へん', '室町', '時代', '嘉吉', '3']"
      ]
     },
     "execution_count": 7,
     "metadata": {},
     "output_type": "execute_result"
    }
   ],
   "source": [
    "nouns_original[:8]"
   ]
  },
  {
   "cell_type": "code",
   "execution_count": 8,
   "id": "e59af18f-baef-4894-a35f-b6b7192f4e5d",
   "metadata": {},
   "outputs": [
    {
     "data": {
      "text/plain": [
       "['禁闕', '変', '室町', '時代', '嘉吉', '3', '年', '1443']"
      ]
     },
     "execution_count": 8,
     "metadata": {},
     "output_type": "execute_result"
    }
   ],
   "source": [
    "nouns_summary[:8]"
   ]
  },
  {
   "cell_type": "code",
   "execution_count": 9,
   "id": "657ec1f2-2f8a-4654-b508-0e5d1246b8bb",
   "metadata": {},
   "outputs": [
    {
     "name": "stdout",
     "output_type": "stream",
     "text": [
      "rouge-1:0.4927536231884058\n",
      "rouge-2:0.28735632183908044\n"
     ]
    }
   ],
   "source": [
    "# ROUGE-1スコアの計算\n",
    "rouge_1_score = rouge_n(nouns_original, nouns_summary, n=1)\n",
    "print(f\"rouge-1:{rouge_1_score}\")\n",
    "rouge_2_score = rouge_n(nouns_original, nouns_summary, n=2)\n",
    "print(f\"rouge-2:{rouge_2_score}\")"
   ]
  },
  {
   "cell_type": "markdown",
   "id": "c0b0d373-56d7-4ae0-bdbe-4eee5d1d37ea",
   "metadata": {},
   "source": [
    "- N-gramの抽出：参照テキストと候補テキストからn-gramを抽出します。\n",
    "- 重複カウント：候補テキストのn-gramが参照テキストにどれだけ現れるかカウントします。\n",
    "- 精度の計算：各n-gramレベルでの精度を計算します（重複カウント/候補テキストのn-gram数）。\n",
    "- 文の長さによる修正：候補テキストが参照テキストより短い場合、ペナルティを適用します。\n",
    "- 最終スコアの計算：各n-gramレベルの精度の幾何平均を取り、文の長さに基づいた修正を加えます。"
   ]
  },
  {
   "cell_type": "code",
   "execution_count": 10,
   "id": "e23b9e97-d226-4d5a-9f29-a5952fc20a63",
   "metadata": {},
   "outputs": [],
   "source": [
    "# BLEUスコアを計算するための関数を定義\n",
    "def calculate_bleu_manual(reference, candidate, max_n=4):\n",
    "    \"\"\"\n",
    "    Calculate BLEU score manually without using NLTK.\n",
    "\n",
    "    :param reference: Reference text (list of words)\n",
    "    :param candidate: Candidate text (list of words)\n",
    "    :param max_n: Maximum size of n-gram\n",
    "    :return: BLEU score\n",
    "    \"\"\"\n",
    "    def ngram_counts(words, n):\n",
    "        return Counter(zip(*[words[i:] for i in range(n)]))\n",
    "\n",
    "    def modified_precision(reference, candidate, n):\n",
    "        ref_ngrams = ngram_counts(reference, n)\n",
    "        cand_ngrams = ngram_counts(candidate, n)\n",
    "\n",
    "        overlap = sum(min(count, cand_ngrams[gram]) for gram, count in ref_ngrams.items())\n",
    "        total_cand_ngrams = sum(cand_ngrams.values())\n",
    "\n",
    "        return (overlap / total_cand_ngrams) if total_cand_ngrams > 0 else 0\n",
    "\n",
    "    precisions = [modified_precision(reference, candidate, n) for n in range(1, max_n+1)]\n",
    "    p_n = [max(min(precision, 1.0), 0.0) for precision in precisions]\n",
    "\n",
    "    # Calculate geometric mean of precisions\n",
    "    p_geom_mean = math.exp(sum(math.log(p) for p in p_n) / max_n) if all(p_n) else 0\n",
    "\n",
    "    # Calculate brevity penalty\n",
    "    ref_length = len(reference)\n",
    "    cand_length = len(candidate)\n",
    "    brevity_penalty = math.exp(1 - ref_length / cand_length) if cand_length < ref_length else 1\n",
    "\n",
    "    # Calculate BLEU score\n",
    "    bleu_score = brevity_penalty * p_geom_mean\n",
    "    return bleu_score\n",
    "\n"
   ]
  },
  {
   "cell_type": "code",
   "execution_count": 11,
   "id": "8b8745d6-f974-4155-ab79-8d07abf176a6",
   "metadata": {},
   "outputs": [
    {
     "ename": "NameError",
     "evalue": "name 'Counter' is not defined",
     "output_type": "error",
     "traceback": [
      "\u001b[0;31m---------------------------------------------------------------------------\u001b[0m",
      "\u001b[0;31mNameError\u001b[0m                                 Traceback (most recent call last)",
      "Cell \u001b[0;32mIn[11], line 2\u001b[0m\n\u001b[1;32m      1\u001b[0m \u001b[38;5;66;03m# BLEUスコアの計算\u001b[39;00m\n\u001b[0;32m----> 2\u001b[0m bleu_score \u001b[38;5;241m=\u001b[39m \u001b[43mcalculate_bleu_manual\u001b[49m\u001b[43m(\u001b[49m\u001b[43mnouns_original\u001b[49m\u001b[43m,\u001b[49m\u001b[43m \u001b[49m\u001b[43mnouns_summary\u001b[49m\u001b[43m,\u001b[49m\u001b[43m \u001b[49m\u001b[43mmax_n\u001b[49m\u001b[38;5;241;43m=\u001b[39;49m\u001b[38;5;241;43m4\u001b[39;49m\u001b[43m)\u001b[49m\n\u001b[1;32m      3\u001b[0m bleu_score\n",
      "Cell \u001b[0;32mIn[10], line 23\u001b[0m, in \u001b[0;36mcalculate_bleu_manual\u001b[0;34m(reference, candidate, max_n)\u001b[0m\n\u001b[1;32m     19\u001b[0m     total_cand_ngrams \u001b[38;5;241m=\u001b[39m \u001b[38;5;28msum\u001b[39m(cand_ngrams\u001b[38;5;241m.\u001b[39mvalues())\n\u001b[1;32m     21\u001b[0m     \u001b[38;5;28;01mreturn\u001b[39;00m (overlap \u001b[38;5;241m/\u001b[39m total_cand_ngrams) \u001b[38;5;28;01mif\u001b[39;00m total_cand_ngrams \u001b[38;5;241m>\u001b[39m \u001b[38;5;241m0\u001b[39m \u001b[38;5;28;01melse\u001b[39;00m \u001b[38;5;241m0\u001b[39m\n\u001b[0;32m---> 23\u001b[0m precisions \u001b[38;5;241m=\u001b[39m [modified_precision(reference, candidate, n) \u001b[38;5;28;01mfor\u001b[39;00m n \u001b[38;5;129;01min\u001b[39;00m \u001b[38;5;28mrange\u001b[39m(\u001b[38;5;241m1\u001b[39m, max_n\u001b[38;5;241m+\u001b[39m\u001b[38;5;241m1\u001b[39m)]\n\u001b[1;32m     24\u001b[0m p_n \u001b[38;5;241m=\u001b[39m [\u001b[38;5;28mmax\u001b[39m(\u001b[38;5;28mmin\u001b[39m(precision, \u001b[38;5;241m1.0\u001b[39m), \u001b[38;5;241m0.0\u001b[39m) \u001b[38;5;28;01mfor\u001b[39;00m precision \u001b[38;5;129;01min\u001b[39;00m precisions]\n\u001b[1;32m     26\u001b[0m \u001b[38;5;66;03m# Calculate geometric mean of precisions\u001b[39;00m\n",
      "Cell \u001b[0;32mIn[10], line 23\u001b[0m, in \u001b[0;36m<listcomp>\u001b[0;34m(.0)\u001b[0m\n\u001b[1;32m     19\u001b[0m     total_cand_ngrams \u001b[38;5;241m=\u001b[39m \u001b[38;5;28msum\u001b[39m(cand_ngrams\u001b[38;5;241m.\u001b[39mvalues())\n\u001b[1;32m     21\u001b[0m     \u001b[38;5;28;01mreturn\u001b[39;00m (overlap \u001b[38;5;241m/\u001b[39m total_cand_ngrams) \u001b[38;5;28;01mif\u001b[39;00m total_cand_ngrams \u001b[38;5;241m>\u001b[39m \u001b[38;5;241m0\u001b[39m \u001b[38;5;28;01melse\u001b[39;00m \u001b[38;5;241m0\u001b[39m\n\u001b[0;32m---> 23\u001b[0m precisions \u001b[38;5;241m=\u001b[39m [\u001b[43mmodified_precision\u001b[49m\u001b[43m(\u001b[49m\u001b[43mreference\u001b[49m\u001b[43m,\u001b[49m\u001b[43m \u001b[49m\u001b[43mcandidate\u001b[49m\u001b[43m,\u001b[49m\u001b[43m \u001b[49m\u001b[43mn\u001b[49m\u001b[43m)\u001b[49m \u001b[38;5;28;01mfor\u001b[39;00m n \u001b[38;5;129;01min\u001b[39;00m \u001b[38;5;28mrange\u001b[39m(\u001b[38;5;241m1\u001b[39m, max_n\u001b[38;5;241m+\u001b[39m\u001b[38;5;241m1\u001b[39m)]\n\u001b[1;32m     24\u001b[0m p_n \u001b[38;5;241m=\u001b[39m [\u001b[38;5;28mmax\u001b[39m(\u001b[38;5;28mmin\u001b[39m(precision, \u001b[38;5;241m1.0\u001b[39m), \u001b[38;5;241m0.0\u001b[39m) \u001b[38;5;28;01mfor\u001b[39;00m precision \u001b[38;5;129;01min\u001b[39;00m precisions]\n\u001b[1;32m     26\u001b[0m \u001b[38;5;66;03m# Calculate geometric mean of precisions\u001b[39;00m\n",
      "Cell \u001b[0;32mIn[10], line 15\u001b[0m, in \u001b[0;36mcalculate_bleu_manual.<locals>.modified_precision\u001b[0;34m(reference, candidate, n)\u001b[0m\n\u001b[1;32m     14\u001b[0m \u001b[38;5;28;01mdef\u001b[39;00m \u001b[38;5;21mmodified_precision\u001b[39m(reference, candidate, n):\n\u001b[0;32m---> 15\u001b[0m     ref_ngrams \u001b[38;5;241m=\u001b[39m \u001b[43mngram_counts\u001b[49m\u001b[43m(\u001b[49m\u001b[43mreference\u001b[49m\u001b[43m,\u001b[49m\u001b[43m \u001b[49m\u001b[43mn\u001b[49m\u001b[43m)\u001b[49m\n\u001b[1;32m     16\u001b[0m     cand_ngrams \u001b[38;5;241m=\u001b[39m ngram_counts(candidate, n)\n\u001b[1;32m     18\u001b[0m     overlap \u001b[38;5;241m=\u001b[39m \u001b[38;5;28msum\u001b[39m(\u001b[38;5;28mmin\u001b[39m(count, cand_ngrams[gram]) \u001b[38;5;28;01mfor\u001b[39;00m gram, count \u001b[38;5;129;01min\u001b[39;00m ref_ngrams\u001b[38;5;241m.\u001b[39mitems())\n",
      "Cell \u001b[0;32mIn[10], line 12\u001b[0m, in \u001b[0;36mcalculate_bleu_manual.<locals>.ngram_counts\u001b[0;34m(words, n)\u001b[0m\n\u001b[1;32m     11\u001b[0m \u001b[38;5;28;01mdef\u001b[39;00m \u001b[38;5;21mngram_counts\u001b[39m(words, n):\n\u001b[0;32m---> 12\u001b[0m     \u001b[38;5;28;01mreturn\u001b[39;00m \u001b[43mCounter\u001b[49m(\u001b[38;5;28mzip\u001b[39m(\u001b[38;5;241m*\u001b[39m[words[i:] \u001b[38;5;28;01mfor\u001b[39;00m i \u001b[38;5;129;01min\u001b[39;00m \u001b[38;5;28mrange\u001b[39m(n)]))\n",
      "\u001b[0;31mNameError\u001b[0m: name 'Counter' is not defined"
     ]
    }
   ],
   "source": [
    "# BLEUスコアの計算\n",
    "bleu_score = calculate_bleu_manual(nouns_original, nouns_summary, max_n=4)\n",
    "bleu_score"
   ]
  },
  {
   "cell_type": "code",
   "execution_count": null,
   "id": "e2aabae5-4c03-42df-800e-ace2b240e31a",
   "metadata": {},
   "outputs": [],
   "source": []
  }
 ],
 "metadata": {
  "kernelspec": {
   "display_name": "Python 3 (ipykernel)",
   "language": "python",
   "name": "python3"
  },
  "language_info": {
   "codemirror_mode": {
    "name": "ipython",
    "version": 3
   },
   "file_extension": ".py",
   "mimetype": "text/x-python",
   "name": "python",
   "nbconvert_exporter": "python",
   "pygments_lexer": "ipython3",
   "version": "3.10.12"
  }
 },
 "nbformat": 4,
 "nbformat_minor": 5
}
