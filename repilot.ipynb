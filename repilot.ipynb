{
 "cells": [
  {
   "cell_type": "markdown",
   "id": "bf3dd427-b979-453a-a767-5cd8e4dfc5c6",
   "metadata": {},
   "source": [
    "LLMを使用して python のコーディングエラーの修正案を提示する内容です\n",
    "参考内容は java のコードを解析するために LSPサーバーを起動してファイル解析やコード保管などの文法間違いの判定を行なっていますが python での実行野ために修正案コードに対して簡単な後処理を実行してみます\n",
    "\n",
    "- Refarence:\n",
    "    - [Copiloting the Copilots: Fusing Large Language Models with Completion Engines for Automated Program Repair](https://arxiv.org/abs/2309.00608v3)\n",
    "    - [Repilot](https://github.com/ise-uiuc/Repilot)"
   ]
  },
  {
   "cell_type": "code",
   "execution_count": 1,
   "id": "c679e91a-4b3e-40e9-b745-bda667f65602",
   "metadata": {},
   "outputs": [
    {
     "name": "stdout",
     "output_type": "stream",
     "text": [
      "Requirement already satisfied: pip in /usr/local/lib/python3.10/dist-packages (23.3.2)\n",
      "\u001b[33mWARNING: Running pip as the 'root' user can result in broken permissions and conflicting behaviour with the system package manager. It is recommended to use a virtual environment instead: https://pip.pypa.io/warnings/venv\u001b[0m\u001b[33m\n",
      "\u001b[0m"
     ]
    }
   ],
   "source": [
    "!python3 -m pip install --upgrade pip"
   ]
  },
  {
   "cell_type": "code",
   "execution_count": 2,
   "id": "5509ae77-eba7-4da2-96ea-122979b1b0fd",
   "metadata": {},
   "outputs": [
    {
     "name": "stdout",
     "output_type": "stream",
     "text": [
      "Requirement already satisfied: openai==1.3.4 in /usr/local/lib/python3.10/dist-packages (1.3.4)\n",
      "Requirement already satisfied: anyio<4,>=3.5.0 in /usr/local/lib/python3.10/dist-packages (from openai==1.3.4) (3.7.1)\n",
      "Requirement already satisfied: distro<2,>=1.7.0 in /usr/lib/python3/dist-packages (from openai==1.3.4) (1.7.0)\n",
      "Requirement already satisfied: httpx<1,>=0.23.0 in /usr/local/lib/python3.10/dist-packages (from openai==1.3.4) (0.26.0)\n",
      "Requirement already satisfied: pydantic<3,>=1.9.0 in /usr/local/lib/python3.10/dist-packages (from openai==1.3.4) (1.10.13)\n",
      "Requirement already satisfied: tqdm>4 in /usr/local/lib/python3.10/dist-packages (from openai==1.3.4) (4.66.1)\n",
      "Requirement already satisfied: typing-extensions<5,>=4.5 in /usr/local/lib/python3.10/dist-packages (from openai==1.3.4) (4.9.0)\n",
      "Requirement already satisfied: idna>=2.8 in /usr/local/lib/python3.10/dist-packages (from anyio<4,>=3.5.0->openai==1.3.4) (3.4)\n",
      "Requirement already satisfied: sniffio>=1.1 in /usr/local/lib/python3.10/dist-packages (from anyio<4,>=3.5.0->openai==1.3.4) (1.3.0)\n",
      "Requirement already satisfied: exceptiongroup in /usr/local/lib/python3.10/dist-packages (from anyio<4,>=3.5.0->openai==1.3.4) (1.2.0)\n",
      "Requirement already satisfied: certifi in /usr/local/lib/python3.10/dist-packages (from httpx<1,>=0.23.0->openai==1.3.4) (2022.12.7)\n",
      "Requirement already satisfied: httpcore==1.* in /usr/local/lib/python3.10/dist-packages (from httpx<1,>=0.23.0->openai==1.3.4) (1.0.2)\n",
      "Requirement already satisfied: h11<0.15,>=0.13 in /usr/local/lib/python3.10/dist-packages (from httpcore==1.*->httpx<1,>=0.23.0->openai==1.3.4) (0.14.0)\n",
      "\u001b[33mWARNING: Running pip as the 'root' user can result in broken permissions and conflicting behaviour with the system package manager. It is recommended to use a virtual environment instead: https://pip.pypa.io/warnings/venv\u001b[0m\u001b[33m\n",
      "\u001b[0m"
     ]
    }
   ],
   "source": [
    "# !pip install openai==1.2.3\n",
    "!pip install openai==1.3.4"
   ]
  },
  {
   "cell_type": "code",
   "execution_count": 3,
   "id": "d43d652e-0e3d-4270-86a0-42d21321d5d2",
   "metadata": {},
   "outputs": [
    {
     "name": "stdout",
     "output_type": "stream",
     "text": [
      "Requirement already satisfied: python-dotenv in /usr/local/lib/python3.10/dist-packages (1.0.0)\n",
      "Requirement already satisfied: tiktoken in /usr/local/lib/python3.10/dist-packages (0.5.2)\n",
      "Requirement already satisfied: regex>=2022.1.18 in /usr/local/lib/python3.10/dist-packages (from tiktoken) (2023.12.25)\n",
      "Requirement already satisfied: requests>=2.26.0 in /usr/local/lib/python3.10/dist-packages (from tiktoken) (2.31.0)\n",
      "Requirement already satisfied: charset-normalizer<4,>=2 in /usr/local/lib/python3.10/dist-packages (from requests>=2.26.0->tiktoken) (2.1.1)\n",
      "Requirement already satisfied: idna<4,>=2.5 in /usr/local/lib/python3.10/dist-packages (from requests>=2.26.0->tiktoken) (3.4)\n",
      "Requirement already satisfied: urllib3<3,>=1.21.1 in /usr/local/lib/python3.10/dist-packages (from requests>=2.26.0->tiktoken) (1.26.13)\n",
      "Requirement already satisfied: certifi>=2017.4.17 in /usr/local/lib/python3.10/dist-packages (from requests>=2.26.0->tiktoken) (2022.12.7)\n",
      "\u001b[33mWARNING: Running pip as the 'root' user can result in broken permissions and conflicting behaviour with the system package manager. It is recommended to use a virtual environment instead: https://pip.pypa.io/warnings/venv\u001b[0m\u001b[33m\n",
      "\u001b[0m"
     ]
    }
   ],
   "source": [
    "!pip install python-dotenv tiktoken"
   ]
  },
  {
   "cell_type": "code",
   "execution_count": 4,
   "id": "9cf47b06-5c33-4695-9681-c55ccc75aba2",
   "metadata": {},
   "outputs": [
    {
     "name": "stdout",
     "output_type": "stream",
     "text": [
      "Requirement already satisfied: pdfplumber in /usr/local/lib/python3.10/dist-packages (0.10.3)\n",
      "Requirement already satisfied: pdfminer.six==20221105 in /usr/local/lib/python3.10/dist-packages (from pdfplumber) (20221105)\n",
      "Requirement already satisfied: Pillow>=9.1 in /usr/local/lib/python3.10/dist-packages (from pdfplumber) (9.3.0)\n",
      "Requirement already satisfied: pypdfium2>=4.18.0 in /usr/local/lib/python3.10/dist-packages (from pdfplumber) (4.25.0)\n",
      "Requirement already satisfied: charset-normalizer>=2.0.0 in /usr/local/lib/python3.10/dist-packages (from pdfminer.six==20221105->pdfplumber) (2.1.1)\n",
      "Requirement already satisfied: cryptography>=36.0.0 in /usr/local/lib/python3.10/dist-packages (from pdfminer.six==20221105->pdfplumber) (41.0.7)\n",
      "Requirement already satisfied: cffi>=1.12 in /usr/local/lib/python3.10/dist-packages (from cryptography>=36.0.0->pdfminer.six==20221105->pdfplumber) (1.16.0)\n",
      "Requirement already satisfied: pycparser in /usr/local/lib/python3.10/dist-packages (from cffi>=1.12->cryptography>=36.0.0->pdfminer.six==20221105->pdfplumber) (2.21)\n",
      "\u001b[33mWARNING: Running pip as the 'root' user can result in broken permissions and conflicting behaviour with the system package manager. It is recommended to use a virtual environment instead: https://pip.pypa.io/warnings/venv\u001b[0m\u001b[33m\n",
      "\u001b[0m"
     ]
    }
   ],
   "source": [
    "!pip install pdfplumber"
   ]
  },
  {
   "cell_type": "code",
   "execution_count": 6,
   "id": "25128dc7-12c1-46f6-9eed-c5dc6b83f6ff",
   "metadata": {},
   "outputs": [
    {
     "name": "stdout",
     "output_type": "stream",
     "text": [
      "  |   |  \n",
      "-----\n",
      "  |   |  \n",
      "-----\n",
      "  |   |  \n",
      "-----\n"
     ]
    },
    {
     "name": "stdin",
     "output_type": "stream",
     "text": [
      "Player X, enter row and column (1-3):  2 2\n"
     ]
    },
    {
     "name": "stdout",
     "output_type": "stream",
     "text": [
      "  |   |  \n",
      "-----\n",
      "  | X |  \n",
      "-----\n",
      "  |   |  \n",
      "-----\n",
      "  |   |  \n",
      "-----\n",
      "  | X | O\n",
      "-----\n",
      "  |   |  \n",
      "-----\n"
     ]
    },
    {
     "name": "stdin",
     "output_type": "stream",
     "text": [
      "Player X, enter row and column (1-3):  1 1\n"
     ]
    },
    {
     "name": "stdout",
     "output_type": "stream",
     "text": [
      "X |   |  \n",
      "-----\n",
      "  | X | O\n",
      "-----\n",
      "  |   |  \n",
      "-----\n",
      "X |   |  \n",
      "-----\n",
      "  | X | O\n",
      "-----\n",
      "  |   | O\n",
      "-----\n"
     ]
    },
    {
     "name": "stdin",
     "output_type": "stream",
     "text": [
      "Player X, enter row and column (1-3):  1 3\n"
     ]
    },
    {
     "name": "stdout",
     "output_type": "stream",
     "text": [
      "X |   | X\n",
      "-----\n",
      "  | X | O\n",
      "-----\n",
      "  |   | O\n",
      "-----\n",
      "X | O | X\n",
      "-----\n",
      "  | X | O\n",
      "-----\n",
      "  |   | O\n",
      "-----\n"
     ]
    },
    {
     "name": "stdin",
     "output_type": "stream",
     "text": [
      "Player X, enter row and column (1-3):  3 1\n"
     ]
    },
    {
     "name": "stdout",
     "output_type": "stream",
     "text": [
      "X | O | X\n",
      "-----\n",
      "  | X | O\n",
      "-----\n",
      "X |   | O\n",
      "-----\n",
      "Player X wins!\n"
     ]
    },
    {
     "name": "stdin",
     "output_type": "stream",
     "text": [
      "Play again? (yes/no):  no\n"
     ]
    }
   ],
   "source": [
    "# エラー用のコード\n",
    "# 三目並べ \n",
    "# 行 列 と入力したときにその位置に手を指す\n",
    "import random\n",
    "from IPython.display import clear_output\n",
    "\n",
    "def print_board(board):\n",
    "    # clear_output(wait=True)\n",
    "    for row in board:\n",
    "        print(\" | \".join(row))\n",
    "        print(\"-\" * 5)\n",
    "\n",
    "def check_winner(board, player):\n",
    "    for row in board:\n",
    "        if all(s == player for s in row):\n",
    "            return True\n",
    "    for col in range(3):\n",
    "        if all(board[row][col] == player for row in range(3)):\n",
    "            return True\n",
    "    if all(board[i][i] == player for i in range(3)):\n",
    "        return True\n",
    "    if all(board[i][2 - i] == player for i in range(3)):\n",
    "        return True\n",
    "    return False\n",
    "\n",
    "def get_empty_cells(board):\n",
    "    return [(i, j) for i in range(3) for j in range(3) if board[i][j] == \" \"]\n",
    "\n",
    "\n",
    "def find_block_move(board, player):\n",
    "    for row in range(3):\n",
    "        if board[row].count(player) == 2 and \" \" in board[row]:\n",
    "            return row, board[row].index(\" \")\n",
    "\n",
    "    for col in range(3):\n",
    "        column = [board[row][col] for row in range(3)]\n",
    "        if column.count(player) == 2 and \" \" in column:\n",
    "            return column.index(\" \"), col\n",
    "\n",
    "    diagonal1 = [board[i][i] for i in range(3)]\n",
    "    if diagonal1.count(player) == 2 and \" \" in diagonal1:\n",
    "        return diagonal1.index(\" \"), diagonal1.index(\" \")\n",
    "\n",
    "    diagonal2 = [board[i][2 - i] for i in range(3)]\n",
    "    if diagonal2.count(player) == 2 and \" \" in diagonal2:\n",
    "        return diagonal2.index(\" \"), 2 - diagonal2.index(\" \")\n",
    "\n",
    "    return None\n",
    "\n",
    "def auto_place_o(board):\n",
    "    block_move = find_block_move(board, \"X\")\n",
    "    if block_move:\n",
    "        row, col = block_move\n",
    "        board[row][col] = \"O\"\n",
    "    else:\n",
    "        empty_cells = get_empty_cells(board)\n",
    "        if empty_cells:\n",
    "            row, col = random.choice(empty_cells)\n",
    "            board[row][col] = \"O\"\n",
    "\n",
    "def tic_tac_toe_jupyter():\n",
    "    board = [[\" \" for _ in range(3)] for _ in range(3)]\n",
    "    current_player = \"X\"\n",
    "    while True:\n",
    "        print_board(board)\n",
    "        if current_player == \"X\":\n",
    "            try:\n",
    "                row, col = map(int, input(\"Player X, enter row and column (1-3): \").split())\n",
    "                row, col = row - 1, col - 1\n",
    "                if board[row][col] != \" \":\n",
    "                    print(\"Cell is already taken. Please try again.\")\n",
    "                    continue\n",
    "            except (ValueError, IndexError):\n",
    "                print(\"Invalid input. Please enter row and column numbers from 1 to 3.\")\n",
    "                continue\n",
    "            board[row][col] = \"X\"\n",
    "        else:\n",
    "            auto_place_o(board)\n",
    "\n",
    "        if check_winner(board, current_player):\n",
    "            print_board(board)\n",
    "            print(f\"Player {current_player} wins!\")\n",
    "            break\n",
    "\n",
    "        if all(all(cell != \" \" for cell in row) for row in board):\n",
    "            print_board(board)\n",
    "            print(\"It's a tie!\")\n",
    "            break\n",
    "\n",
    "        current_player = \"O\" if current_player == \"X\" else \"X\"\n",
    "\n",
    "    if input(\"Play again? (yes/no): \").lower().startswith(\"y\"):\n",
    "        tic_tac_toe_jupyter()\n",
    "\n",
    "tic_tac_toe_jupyter()"
   ]
  },
  {
   "cell_type": "code",
   "execution_count": 7,
   "id": "b4996acc-0019-4820-a9e5-a9bf8ede0a9d",
   "metadata": {},
   "outputs": [],
   "source": [
    "from contextlib import contextmanager\n",
    "from time import time\n",
    "\n",
    "class Timer:\n",
    "    \"\"\"処理時間を表示するクラス\n",
    "    with Timer(prefix=f'pred cv={i}'):\n",
    "        y_pred_i = predict(model, loader=test_loader)\n",
    "    \n",
    "    with Timer(prefix='fit fold={} '.format(i)):\n",
    "        clf.fit(x_train, y_train, \n",
    "                eval_set=[(x_valid, y_valid)],  \n",
    "                early_stopping_rounds=100,\n",
    "                verbose=verbose)\n",
    "\n",
    "    with Timer(prefix='fit fold={} '.format(i), verbose=500):\n",
    "        clf.fit(x_train, y_train, \n",
    "                eval_set=[(x_valid, y_valid)],  \n",
    "                early_stopping_rounds=100,\n",
    "                verbose=verbose)\n",
    "    \"\"\"\n",
    "    def __init__(self, logger=None, format_str='{:.3f}[s]', prefix=None, suffix=None, sep=' ', verbose=0):\n",
    "\n",
    "        if prefix: format_str = str(prefix) + sep + format_str\n",
    "        if suffix: format_str = format_str + sep + str(suffix)\n",
    "        self.format_str = format_str\n",
    "        self.logger = logger\n",
    "        self.start = None\n",
    "        self.end = None\n",
    "        self.verbose = verbose\n",
    "\n",
    "    @property\n",
    "    def duration(self):\n",
    "        if self.end is None:\n",
    "            return 0\n",
    "        return self.end - self.start\n",
    "\n",
    "    def __enter__(self):\n",
    "        self.start = time()\n",
    "\n",
    "    def __exit__(self, exc_type, exc_val, exc_tb):\n",
    "        self.end = time()\n",
    "        out_str = self.format_str.format(self.duration)\n",
    "        if self.logger:\n",
    "            self.logger.info(out_str)\n",
    "        else:\n",
    "            print(out_str)"
   ]
  },
  {
   "cell_type": "code",
   "execution_count": 8,
   "id": "eb145bc1-9f6b-42e8-85a7-44e0cb9765eb",
   "metadata": {},
   "outputs": [
    {
     "data": {
      "text/plain": [
       "True"
      ]
     },
     "execution_count": 8,
     "metadata": {},
     "output_type": "execute_result"
    }
   ],
   "source": [
    "import openai\n",
    "import pdfplumber\n",
    "from openai import OpenAI\n",
    "import tiktoken\n",
    "from dotenv import load_dotenv\n",
    "import os\n",
    "load_dotenv()"
   ]
  },
  {
   "cell_type": "code",
   "execution_count": 9,
   "id": "e9fbe966-d118-4cc6-8bc8-28339890d418",
   "metadata": {},
   "outputs": [],
   "source": [
    "# OpenAIのLLMを使って初期提案を生成する関数\n",
    "def generate_initial_proposal_with_openai(buggy_code, error_log):\n",
    "    openai.api_key = os.getenv(\"OPENAI_API_KEY\")\n",
    "    client = OpenAI()  # OpenAIクライアントの初期化\n",
    "    response = client.chat.completions.create(\n",
    "        # model=\"gpt-4-1106-preview\",  # モデルの指定\n",
    "        model=\"gpt-3.5-turbo-1106\",  # モデルの指定\n",
    "        messages=[\n",
    "            {\"role\": \"system\", \"content\": \"You are a programmer who takes an error log and corresponding code as input and generates code to correct the error.\"},\n",
    "            {\"role\": \"user\", \"content\": f\"以下のコードにはエラーがあります：\\n{buggy_code}\\nエラーログ：\\n{error_log}\\nこのエラーを修正するためのコードを提案してください。\\n\"}\n",
    "        ],\n",
    "        temperature=1.8\n",
    "    )\n",
    "    return response.choices[0].message.content"
   ]
  },
  {
   "cell_type": "code",
   "execution_count": 12,
   "id": "cb7d8154-7fdf-4c18-83a6-ce62948eff2e",
   "metadata": {},
   "outputs": [],
   "source": [
    "# 元ネタの https://github.com/ise-uiuc/Repilot では\n",
    "# java の文法チェック、コードの整合性の確認を LSP サーバーを起動して確認するが\n",
    "# それの python 版\n",
    "\n",
    "# class JdtLspAnalyzer:\n",
    "#     # JdtLspAnalyzer クラスの概念的な実装\n",
    "#     def __init__(self):\n",
    "#         pass\n",
    "\n",
    "#     def analyze(self, code):\n",
    "#         # Javaコードの解析を行う概念的なメソッド\n",
    "#         return {\"error_info\": \"ダミーの解析結果\"}\n",
    "\n",
    "# def repair_function(proposal, analysis_result):\n",
    "#     # 修復提案を改善する概念的な関数\n",
    "#     return proposal + \"\\n// 修正提案が改善されました\"\n",
    "\n",
    "# def improve_proposal_with_repilot(initial_proposal, buggy_code):\n",
    "#     # JdtLspAnalyzerを使用してJavaコードを解析\n",
    "#     conn = Client(...)  # 適切な接続情報を設定\n",
    "#     analyzer = JdtLspAnalyzer(conn, server_cmd, proj_path, ...)\n",
    "#     analyzer.start()\n",
    "#     analysis_result = analyzer.analyze(buggy_code)  # Javaコードを解析\n",
    "#     analyzer.terminate()\n",
    "    \n",
    "#     # 修正提案を改善\n",
    "#     improved_proposal = initial_proposal  # ここに修正提案の改善処理を追加\n",
    "#     return improved_proposal\n",
    "\n",
    "import ast\n",
    "\n",
    "def improve_proposal_with_repilot(initial_proposal, buggy_code):\n",
    "    improved_proposal = initial_proposal\n",
    "\n",
    "    # 文法チェック - 提案されたコードが有効なPythonコードであるか確認\n",
    "    try:\n",
    "        ast.parse(improved_proposal)\n",
    "        # ここで追加の改善処理を実行できます（例：コードの再フォーマット）\n",
    "    except SyntaxError:\n",
    "        # 文法エラーがある場合、改善された提案をエラーメッセージに置き換える\n",
    "        improved_proposal = \"# 文法エラーが検出されました。\\n\" + initial_proposal\n",
    "\n",
    "    return improved_proposal"
   ]
  },
  {
   "cell_type": "code",
   "execution_count": 11,
   "id": "7aea821b-833f-46d8-9099-486f8c258455",
   "metadata": {},
   "outputs": [
    {
     "name": "stdout",
     "output_type": "stream",
     "text": [
      "  |   |  \n",
      "-----\n",
      "  |   |  \n",
      "-----\n",
      "  |   |  \n",
      "-----\n"
     ]
    },
    {
     "name": "stdin",
     "output_type": "stream",
     "text": [
      "Player X, enter row and column (1-3):  2 2\n"
     ]
    },
    {
     "name": "stdout",
     "output_type": "stream",
     "text": [
      "  |   |  \n",
      "-----\n",
      "  | X |  \n",
      "-----\n",
      "  |   |  \n",
      "-----\n",
      "  |   |  \n",
      "-----\n",
      "  | X |  \n",
      "-----\n",
      "O |   |  \n",
      "-----\n"
     ]
    },
    {
     "name": "stdin",
     "output_type": "stream",
     "text": [
      "Player X, enter row and column (1-3):  1 1\n"
     ]
    },
    {
     "ename": "IndexError",
     "evalue": "string index out of range",
     "output_type": "error",
     "traceback": [
      "\u001b[0;31m---------------------------------------------------------------------------\u001b[0m",
      "\u001b[0;31mIndexError\u001b[0m                                Traceback (most recent call last)",
      "Cell \u001b[0;32mIn[11], line 40\u001b[0m\n\u001b[1;32m     38\u001b[0m     \u001b[38;5;28;01mif\u001b[39;00m \u001b[38;5;28minput\u001b[39m(\u001b[38;5;124m\"\u001b[39m\u001b[38;5;124mPlay again? (yes/no): \u001b[39m\u001b[38;5;124m\"\u001b[39m)\u001b[38;5;241m.\u001b[39mlower()\u001b[38;5;241m.\u001b[39mstartswith(\u001b[38;5;124m\"\u001b[39m\u001b[38;5;124my\u001b[39m\u001b[38;5;124m\"\u001b[39m):\n\u001b[1;32m     39\u001b[0m         tic_tac_toe_jupyter()\n\u001b[0;32m---> 40\u001b[0m \u001b[43mtic_tac_toe_jupyter\u001b[49m\u001b[43m(\u001b[49m\u001b[43m)\u001b[49m\n",
      "Cell \u001b[0;32mIn[11], line 24\u001b[0m, in \u001b[0;36mtic_tac_toe_jupyter\u001b[0;34m()\u001b[0m\n\u001b[1;32m     22\u001b[0m turns \u001b[38;5;241m+\u001b[39m\u001b[38;5;241m=\u001b[39m \u001b[38;5;241m1\u001b[39m\n\u001b[1;32m     23\u001b[0m \u001b[38;5;28;01mif\u001b[39;00m turns \u001b[38;5;241m==\u001b[39m \u001b[38;5;241m3\u001b[39m:  \u001b[38;5;66;03m# エラーを導入\u001b[39;00m\n\u001b[0;32m---> 24\u001b[0m     current_player \u001b[38;5;241m=\u001b[39m \u001b[43mcurrent_player\u001b[49m\u001b[43m[\u001b[49m\u001b[38;5;241;43m1\u001b[39;49m\u001b[43m]\u001b[49m  \u001b[38;5;66;03m# 不正なインデックスアクセス\u001b[39;00m\n\u001b[1;32m     26\u001b[0m \u001b[38;5;28;01mif\u001b[39;00m check_winner(board, current_player):\n\u001b[1;32m     27\u001b[0m     print_board(board)\n",
      "\u001b[0;31mIndexError\u001b[0m: string index out of range"
     ]
    }
   ],
   "source": [
    "# エラーになる処理の追加\n",
    "def tic_tac_toe_jupyter():\n",
    "    board = [[\" \" for _ in range(3)] for _ in range(3)]\n",
    "    current_player = \"X\"\n",
    "    turns = 0  # ターン数を追跡\n",
    "\n",
    "    while True:\n",
    "        print_board(board)\n",
    "        if current_player == \"X\":\n",
    "            try:\n",
    "                row, col = map(int, input(\"Player X, enter row and column (1-3): \").split())\n",
    "                row, col = row - 1, col - 1\n",
    "                if board[row][col] != \" \":\n",
    "                    print(\"Cell is already taken. Please try again.\")\n",
    "                    continue\n",
    "            except (ValueError, IndexError):\n",
    "                print(\"Invalid input. Please enter row and column numbers from 1 to 3.\")\n",
    "                continue\n",
    "            board[row][col] = \"X\"\n",
    "        else:\n",
    "            auto_place_o(board)\n",
    "\n",
    "        turns += 1\n",
    "        if turns == 3:  # エラーを導入\n",
    "            current_player = current_player[1]  # 不正なインデックスアクセス\n",
    "\n",
    "        if check_winner(board, current_player):\n",
    "            print_board(board)\n",
    "            print(f\"Player {current_player} wins!\")\n",
    "            break\n",
    "\n",
    "        if all(all(cell != \" \" for cell in row) for row in board):\n",
    "            print_board(board)\n",
    "            print(\"It's a tie!\")\n",
    "            break\n",
    "\n",
    "        current_player = \"O\" if current_player == \"X\" else \"X\"\n",
    "\n",
    "    if input(\"Play again? (yes/no): \").lower().startswith(\"y\"):\n",
    "        tic_tac_toe_jupyter()\n",
    "tic_tac_toe_jupyter()"
   ]
  },
  {
   "cell_type": "code",
   "execution_count": 13,
   "id": "2da66584-0afb-49f6-9cfd-6d4fa8dff9d9",
   "metadata": {},
   "outputs": [
    {
     "name": "stdout",
     "output_type": "stream",
     "text": [
      "改善された修正提案: # 文法エラーが検出されました。\n",
      "エラーの修正には、`current_player` の更新方法を修正する必要があります。現在のコードでは、`current_player` を文字列として扱っていますが、1文字目のみを取得しようとしているため、エラーが発生しています。\n",
      "\n",
      "以下の修正を提案します：\n",
      "```python\n",
      "if turns == 3:\n",
      "    current_player = \"O\" if current_player == \"X\" else \"X\"\n",
      "```\n",
      "\n",
      "修正後のコードは以下の通りです：\n",
      "\n",
      "```python\n",
      "def tic_tac_toe_jupyter():\n",
      "    board = [[\" \" for _ in range(3)] for _ in range(3)]\n",
      "    current_player = \"X\"\n",
      "    turns = 0  # ターン数を追跡\n",
      "\n",
      "    while True:\n",
      "        print_board(board)\n",
      "        if current_player == \"X\":\n",
      "            try:\n",
      "                row, col = map(int, input(\"Player X, enter row and column (1-3): \").split())\n",
      "                row, col = row - 1, col - 1\n",
      "                if board[row][col] != \" \":\n",
      "                    print(\"Cell is already taken. Please try again.\")\n",
      "                    continue\n",
      "            except (ValueError, IndexError):\n",
      "                print(\"Invalid input. Please enter row and column numbers from 1 to 3.\")\n",
      "                continue\n",
      "            board[row][col] = \"X\"\n",
      "        else:\n",
      "            auto_place_o(board)\n",
      "\n",
      "        turns += 1\n",
      "        if turns == 3:\n",
      "            current_player = \"O\" if current_player == \"X\" else \"X\"\n",
      "\n",
      "        if check_winner(board, current_player):\n",
      "            print_board(board)\n",
      "            print(f\"Player {current_player} wins!\")\n",
      "            break\n",
      "\n",
      "        if all(all(cell != \" \" for cell in row) for row in board):\n",
      "            print_board(board)\n",
      "            print(\"It's a tie!\")\n",
      "            break\n",
      "\n",
      "        current_player = \"O\" if current_player == \"X\" else \"X\"\n",
      "\n",
      "    if input(\"Play again? (yes/no): \").lower().startswith(\"y\"):\n",
      "        tic_tac_toe_jupyter()\n",
      "```\n"
     ]
    }
   ],
   "source": [
    "buggy_code = \"ここにエラーのあるコードを入力\"\n",
    "buggy_code = \"\"\"\n",
    "def tic_tac_toe_jupyter():\n",
    "    board = [[\" \" for _ in range(3)] for _ in range(3)]\n",
    "    current_player = \"X\"\n",
    "    turns = 0  # ターン数を追跡\n",
    "\n",
    "    while True:\n",
    "        print_board(board)\n",
    "        if current_player == \"X\":\n",
    "            try:\n",
    "                row, col = map(int, input(\"Player X, enter row and column (1-3): \").split())\n",
    "                row, col = row - 1, col - 1\n",
    "                if board[row][col] != \" \":\n",
    "                    print(\"Cell is already taken. Please try again.\")\n",
    "                    continue\n",
    "            except (ValueError, IndexError):\n",
    "                print(\"Invalid input. Please enter row and column numbers from 1 to 3.\")\n",
    "                continue\n",
    "            board[row][col] = \"X\"\n",
    "        else:\n",
    "            auto_place_o(board)\n",
    "\n",
    "        turns += 1\n",
    "        if turns == 3:  # エラーを導入\n",
    "            current_player = current_player[1]  # 不正なインデックスアクセス\n",
    "\n",
    "        if check_winner(board, current_player):\n",
    "            print_board(board)\n",
    "            print(f\"Player {current_player} wins!\")\n",
    "            break\n",
    "\n",
    "        if all(all(cell != \" \" for cell in row) for row in board):\n",
    "            print_board(board)\n",
    "            print(\"It's a tie!\")\n",
    "            break\n",
    "\n",
    "        current_player = \"O\" if current_player == \"X\" else \"X\"\n",
    "\n",
    "    if input(\"Play again? (yes/no): \").lower().startswith(\"y\"):\n",
    "        tic_tac_toe_jupyter()\n",
    "\"\"\"\n",
    "error_log = \"ここにエラーログを入力\"\n",
    "error_log = \"\"\"\n",
    "---------------------------------------------------------------------------\n",
    "IndexError                                Traceback (most recent call last)\n",
    "Cell In[11], line 40\n",
    "     38     if input(\"Play again? (yes/no): \").lower().startswith(\"y\"):\n",
    "     39         tic_tac_toe_jupyter()\n",
    "---> 40 tic_tac_toe_jupyter()\n",
    "\n",
    "Cell In[11], line 24, in tic_tac_toe_jupyter()\n",
    "     22 turns += 1\n",
    "     23 if turns == 3:  # エラーを導入\n",
    "---> 24     current_player = current_player[1]  # 不正なインデックスアクセス\n",
    "     26 if check_winner(board, current_player):\n",
    "     27     print_board(board)\n",
    "\n",
    "IndexError: string index out of range\n",
    "\"\"\"\n",
    "initial_proposal = generate_initial_proposal_with_openai(buggy_code, error_log)\n",
    "improved_proposal = improve_proposal_with_repilot(initial_proposal, buggy_code)\n",
    "\n",
    "print(\"改善された修正提案:\", improved_proposal)"
   ]
  },
  {
   "cell_type": "code",
   "execution_count": 14,
   "id": "a7290c97-6b02-46d2-9807-d6ccb0619a71",
   "metadata": {},
   "outputs": [
    {
     "name": "stdout",
     "output_type": "stream",
     "text": [
      "  |   |  \n",
      "-----\n",
      "  |   |  \n",
      "-----\n",
      "  |   |  \n",
      "-----\n"
     ]
    },
    {
     "name": "stdin",
     "output_type": "stream",
     "text": [
      "Player X, enter row and column (1-3):  2 2\n"
     ]
    },
    {
     "name": "stdout",
     "output_type": "stream",
     "text": [
      "  |   |  \n",
      "-----\n",
      "  | X |  \n",
      "-----\n",
      "  |   |  \n",
      "-----\n",
      "  |   |  \n",
      "-----\n",
      "  | X | O\n",
      "-----\n",
      "  |   |  \n",
      "-----\n"
     ]
    },
    {
     "name": "stdin",
     "output_type": "stream",
     "text": [
      "Player X, enter row and column (1-3):  1 2\n"
     ]
    },
    {
     "name": "stdout",
     "output_type": "stream",
     "text": [
      "  | X |  \n",
      "-----\n",
      "  | X | O\n",
      "-----\n",
      "  |   |  \n",
      "-----\n"
     ]
    },
    {
     "name": "stdin",
     "output_type": "stream",
     "text": [
      "Player X, enter row and column (1-3):  3 2\n"
     ]
    },
    {
     "name": "stdout",
     "output_type": "stream",
     "text": [
      "  | X |  \n",
      "-----\n",
      "  | X | O\n",
      "-----\n",
      "  | X |  \n",
      "-----\n",
      "Player X wins!\n"
     ]
    },
    {
     "name": "stdin",
     "output_type": "stream",
     "text": [
      "Play again? (yes/no):  no\n"
     ]
    }
   ],
   "source": [
    "# 提案されたコードを試す\n",
    "def tic_tac_toe_jupyter():\n",
    "    board = [[\" \" for _ in range(3)] for _ in range(3)]\n",
    "    current_player = \"X\"\n",
    "    turns = 0  # ターン数を追跡\n",
    "\n",
    "    while True:\n",
    "        print_board(board)\n",
    "        if current_player == \"X\":\n",
    "            try:\n",
    "                row, col = map(int, input(\"Player X, enter row and column (1-3): \").split())\n",
    "                row, col = row - 1, col - 1\n",
    "                if board[row][col] != \" \":\n",
    "                    print(\"Cell is already taken. Please try again.\")\n",
    "                    continue\n",
    "            except (ValueError, IndexError):\n",
    "                print(\"Invalid input. Please enter row and column numbers from 1 to 3.\")\n",
    "                continue\n",
    "            board[row][col] = \"X\"\n",
    "        else:\n",
    "            auto_place_o(board)\n",
    "\n",
    "        turns += 1\n",
    "        if turns == 3:\n",
    "            current_player = \"O\" if current_player == \"X\" else \"X\"\n",
    "\n",
    "        if check_winner(board, current_player):\n",
    "            print_board(board)\n",
    "            print(f\"Player {current_player} wins!\")\n",
    "            break\n",
    "\n",
    "        if all(all(cell != \" \" for cell in row) for row in board):\n",
    "            print_board(board)\n",
    "            print(\"It's a tie!\")\n",
    "            break\n",
    "\n",
    "        current_player = \"O\" if current_player == \"X\" else \"X\"\n",
    "\n",
    "    if input(\"Play again? (yes/no): \").lower().startswith(\"y\"):\n",
    "        tic_tac_toe_jupyter()\n",
    "        \n",
    "tic_tac_toe_jupyter()"
   ]
  },
  {
   "cell_type": "markdown",
   "id": "77c61dbe-9da8-4d54-99a4-5f0fd730d32f",
   "metadata": {},
   "source": [
    "動くようにはなったけどゲームとして成り立たないという・・・"
   ]
  },
  {
   "cell_type": "code",
   "execution_count": null,
   "id": "3d115ff6-234a-4800-9916-dc5bf3379937",
   "metadata": {},
   "outputs": [],
   "source": []
  }
 ],
 "metadata": {
  "kernelspec": {
   "display_name": "Python 3 (ipykernel)",
   "language": "python",
   "name": "python3"
  },
  "language_info": {
   "codemirror_mode": {
    "name": "ipython",
    "version": 3
   },
   "file_extension": ".py",
   "mimetype": "text/x-python",
   "name": "python",
   "nbconvert_exporter": "python",
   "pygments_lexer": "ipython3",
   "version": "3.10.12"
  }
 },
 "nbformat": 4,
 "nbformat_minor": 5
}
