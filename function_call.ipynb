{
 "cells": [
  {
   "cell_type": "code",
   "execution_count": null,
   "id": "d551f9c8-8227-49b5-b225-1619d035241b",
   "metadata": {},
   "outputs": [],
   "source": []
  },
  {
   "cell_type": "code",
   "execution_count": 1,
   "id": "46cb76c1-a1e5-466c-85c4-56d497ca5f56",
   "metadata": {},
   "outputs": [
    {
     "name": "stdout",
     "output_type": "stream",
     "text": [
      "Requirement already satisfied: pip in /usr/local/lib/python3.10/dist-packages (24.0)\n",
      "\u001b[33mWARNING: Running pip as the 'root' user can result in broken permissions and conflicting behaviour with the system package manager. It is recommended to use a virtual environment instead: https://pip.pypa.io/warnings/venv\u001b[0m\u001b[33m\n",
      "\u001b[0m"
     ]
    }
   ],
   "source": [
    "!python3 -m pip install --upgrade pip"
   ]
  },
  {
   "cell_type": "code",
   "execution_count": 2,
   "id": "4c2b366f-9ca3-4f1b-b4fe-a9ee8a313596",
   "metadata": {
    "scrolled": true,
    "tags": []
   },
   "outputs": [
    {
     "name": "stdout",
     "output_type": "stream",
     "text": [
      "Requirement already satisfied: arxiv==2.1.0 in /usr/local/lib/python3.10/dist-packages (2.1.0)\n",
      "Requirement already satisfied: feedparser==6.0.10 in /usr/local/lib/python3.10/dist-packages (from arxiv==2.1.0) (6.0.10)\n",
      "Requirement already satisfied: requests==2.31.0 in /usr/local/lib/python3.10/dist-packages (from arxiv==2.1.0) (2.31.0)\n",
      "Requirement already satisfied: sgmllib3k in /usr/local/lib/python3.10/dist-packages (from feedparser==6.0.10->arxiv==2.1.0) (1.0.0)\n",
      "Requirement already satisfied: charset-normalizer<4,>=2 in /usr/local/lib/python3.10/dist-packages (from requests==2.31.0->arxiv==2.1.0) (2.1.1)\n",
      "Requirement already satisfied: idna<4,>=2.5 in /usr/local/lib/python3.10/dist-packages (from requests==2.31.0->arxiv==2.1.0) (3.4)\n",
      "Requirement already satisfied: urllib3<3,>=1.21.1 in /usr/local/lib/python3.10/dist-packages (from requests==2.31.0->arxiv==2.1.0) (1.26.13)\n",
      "Requirement already satisfied: certifi>=2017.4.17 in /usr/local/lib/python3.10/dist-packages (from requests==2.31.0->arxiv==2.1.0) (2022.12.7)\n",
      "\u001b[33mWARNING: Running pip as the 'root' user can result in broken permissions and conflicting behaviour with the system package manager. It is recommended to use a virtual environment instead: https://pip.pypa.io/warnings/venv\u001b[0m\u001b[33m\n",
      "\u001b[0mRequirement already satisfied: python-dotenv in /usr/local/lib/python3.10/dist-packages (1.0.1)\n",
      "Requirement already satisfied: tiktoken in /usr/local/lib/python3.10/dist-packages (0.6.0)\n",
      "Requirement already satisfied: regex>=2022.1.18 in /usr/local/lib/python3.10/dist-packages (from tiktoken) (2023.12.25)\n",
      "Requirement already satisfied: requests>=2.26.0 in /usr/local/lib/python3.10/dist-packages (from tiktoken) (2.31.0)\n",
      "Requirement already satisfied: charset-normalizer<4,>=2 in /usr/local/lib/python3.10/dist-packages (from requests>=2.26.0->tiktoken) (2.1.1)\n",
      "Requirement already satisfied: idna<4,>=2.5 in /usr/local/lib/python3.10/dist-packages (from requests>=2.26.0->tiktoken) (3.4)\n",
      "Requirement already satisfied: urllib3<3,>=1.21.1 in /usr/local/lib/python3.10/dist-packages (from requests>=2.26.0->tiktoken) (1.26.13)\n",
      "Requirement already satisfied: certifi>=2017.4.17 in /usr/local/lib/python3.10/dist-packages (from requests>=2.26.0->tiktoken) (2022.12.7)\n",
      "\u001b[33mWARNING: Running pip as the 'root' user can result in broken permissions and conflicting behaviour with the system package manager. It is recommended to use a virtual environment instead: https://pip.pypa.io/warnings/venv\u001b[0m\u001b[33m\n",
      "\u001b[0mRequirement already satisfied: openai==1.3.4 in /usr/local/lib/python3.10/dist-packages (1.3.4)\n",
      "Requirement already satisfied: anyio<4,>=3.5.0 in /usr/local/lib/python3.10/dist-packages (from openai==1.3.4) (3.7.1)\n",
      "Requirement already satisfied: distro<2,>=1.7.0 in /usr/lib/python3/dist-packages (from openai==1.3.4) (1.7.0)\n",
      "Requirement already satisfied: httpx<1,>=0.23.0 in /usr/local/lib/python3.10/dist-packages (from openai==1.3.4) (0.26.0)\n",
      "Requirement already satisfied: pydantic<3,>=1.9.0 in /usr/local/lib/python3.10/dist-packages (from openai==1.3.4) (1.10.13)\n",
      "Requirement already satisfied: tqdm>4 in /usr/local/lib/python3.10/dist-packages (from openai==1.3.4) (4.66.1)\n",
      "Requirement already satisfied: typing-extensions<5,>=4.5 in /usr/local/lib/python3.10/dist-packages (from openai==1.3.4) (4.9.0)\n",
      "Requirement already satisfied: idna>=2.8 in /usr/local/lib/python3.10/dist-packages (from anyio<4,>=3.5.0->openai==1.3.4) (3.4)\n",
      "Requirement already satisfied: sniffio>=1.1 in /usr/local/lib/python3.10/dist-packages (from anyio<4,>=3.5.0->openai==1.3.4) (1.3.0)\n",
      "Requirement already satisfied: exceptiongroup in /usr/local/lib/python3.10/dist-packages (from anyio<4,>=3.5.0->openai==1.3.4) (1.2.0)\n",
      "Requirement already satisfied: certifi in /usr/local/lib/python3.10/dist-packages (from httpx<1,>=0.23.0->openai==1.3.4) (2022.12.7)\n",
      "Requirement already satisfied: httpcore==1.* in /usr/local/lib/python3.10/dist-packages (from httpx<1,>=0.23.0->openai==1.3.4) (1.0.2)\n",
      "Requirement already satisfied: h11<0.15,>=0.13 in /usr/local/lib/python3.10/dist-packages (from httpcore==1.*->httpx<1,>=0.23.0->openai==1.3.4) (0.14.0)\n",
      "\u001b[33mWARNING: Running pip as the 'root' user can result in broken permissions and conflicting behaviour with the system package manager. It is recommended to use a virtual environment instead: https://pip.pypa.io/warnings/venv\u001b[0m\u001b[33m\n",
      "\u001b[0mRequirement already satisfied: duckduckgo-search==4.4 in /usr/local/lib/python3.10/dist-packages (4.4)\n",
      "Requirement already satisfied: docstring-inheritance>=2.1.2 in /usr/local/lib/python3.10/dist-packages (from duckduckgo-search==4.4) (2.1.2)\n",
      "Requirement already satisfied: click>=8.1.7 in /usr/local/lib/python3.10/dist-packages (from duckduckgo-search==4.4) (8.1.7)\n",
      "Requirement already satisfied: curl-cffi>=0.6.0b7 in /usr/local/lib/python3.10/dist-packages (from duckduckgo-search==4.4) (0.6.0b9)\n",
      "Requirement already satisfied: lxml>=4.9.3 in /usr/local/lib/python3.10/dist-packages (from duckduckgo-search==4.4) (4.9.4)\n",
      "Requirement already satisfied: nest-asyncio>=1.6.0 in /usr/local/lib/python3.10/dist-packages (from duckduckgo-search==4.4) (1.6.0)\n",
      "Requirement already satisfied: cffi>=1.12.0 in /usr/local/lib/python3.10/dist-packages (from curl-cffi>=0.6.0b7->duckduckgo-search==4.4) (1.16.0)\n",
      "Requirement already satisfied: certifi in /usr/local/lib/python3.10/dist-packages (from curl-cffi>=0.6.0b7->duckduckgo-search==4.4) (2022.12.7)\n",
      "Requirement already satisfied: pycparser in /usr/local/lib/python3.10/dist-packages (from cffi>=1.12.0->curl-cffi>=0.6.0b7->duckduckgo-search==4.4) (2.21)\n",
      "\u001b[33mWARNING: Running pip as the 'root' user can result in broken permissions and conflicting behaviour with the system package manager. It is recommended to use a virtual environment instead: https://pip.pypa.io/warnings/venv\u001b[0m\u001b[33m\n",
      "\u001b[0m"
     ]
    }
   ],
   "source": [
    "!pip3 install arxiv==2.1.0\n",
    "!pip3 install python-dotenv tiktoken\n",
    "# !pip install openai==0.27.8\n",
    "# !pip install openai==1.2.3\n",
    "!pip install openai==1.3.4\n",
    "!pip install -U duckduckgo-search==4.4"
   ]
  },
  {
   "cell_type": "code",
   "execution_count": 3,
   "id": "c30e4e2f-c59d-4ade-9b38-cc1d998eecc4",
   "metadata": {},
   "outputs": [],
   "source": [
    "import os\n",
    "import json\n",
    "import datetime as dt\n",
    "# from datetime import datetime\n",
    "import yaml\n",
    "\n",
    "import warnings\n",
    "\n",
    "\n",
    "import arxiv\n",
    "import openai\n",
    "from openai import OpenAI\n",
    "from dotenv import load_dotenv\n",
    "\n",
    "from duckduckgo_search import DDGS, AsyncDDGS\n",
    "import asyncio\n",
    "\n",
    "# すべての警告を無視する\n",
    "warnings.filterwarnings('ignore')"
   ]
  },
  {
   "cell_type": "code",
   "execution_count": 4,
   "id": "7cd68aa4-1b50-48b3-b46b-442f64e4a7d5",
   "metadata": {},
   "outputs": [],
   "source": [
    "from contextlib import contextmanager\n",
    "from time import time\n",
    "\n",
    "class Timer:\n",
    "    \"\"\"処理時間を表示するクラス\n",
    "    with Timer(prefix=f'pred cv={i}'):\n",
    "        y_pred_i = predict(model, loader=test_loader)\n",
    "    \n",
    "    with Timer(prefix='fit fold={} '.format(i)):\n",
    "        clf.fit(x_train, y_train, \n",
    "                eval_set=[(x_valid, y_valid)],  \n",
    "                early_stopping_rounds=100,\n",
    "                verbose=verbose)\n",
    "\n",
    "    with Timer(prefix='fit fold={} '.format(i), verbose=500):\n",
    "        clf.fit(x_train, y_train, \n",
    "                eval_set=[(x_valid, y_valid)],  \n",
    "                early_stopping_rounds=100,\n",
    "                verbose=verbose)\n",
    "    \"\"\"\n",
    "    def __init__(self, logger=None, format_str='{:.3f}[s]', prefix=None, suffix=None, sep=' ', verbose=0):\n",
    "\n",
    "        if prefix: format_str = str(prefix) + sep + format_str\n",
    "        if suffix: format_str = format_str + sep + str(suffix)\n",
    "        self.format_str = format_str\n",
    "        self.logger = logger\n",
    "        self.start = None\n",
    "        self.end = None\n",
    "        self.verbose = verbose\n",
    "\n",
    "    @property\n",
    "    def duration(self):\n",
    "        if self.end is None:\n",
    "            return 0\n",
    "        return self.end - self.start\n",
    "\n",
    "    def __enter__(self):\n",
    "        self.start = time()\n",
    "\n",
    "    def __exit__(self, exc_type, exc_val, exc_tb):\n",
    "        self.end = time()\n",
    "        out_str = self.format_str.format(self.duration)\n",
    "        if self.logger:\n",
    "            self.logger.info(out_str)\n",
    "        else:\n",
    "            print(out_str)"
   ]
  },
  {
   "cell_type": "code",
   "execution_count": 5,
   "id": "e34eb8de-33b9-4cb0-a0be-116fb5a6b019",
   "metadata": {},
   "outputs": [
    {
     "data": {
      "text/plain": [
       "True"
      ]
     },
     "execution_count": 5,
     "metadata": {},
     "output_type": "execute_result"
    }
   ],
   "source": [
    "load_dotenv()"
   ]
  },
  {
   "cell_type": "code",
   "execution_count": 6,
   "id": "0a2023a7-537c-47b1-9c2a-0ff637a5e132",
   "metadata": {},
   "outputs": [],
   "source": [
    "openai.api_key = os.getenv(\"OPENAI_API_KEY\")"
   ]
  },
  {
   "cell_type": "code",
   "execution_count": 7,
   "id": "e700160d-3e6a-47c5-9be6-132f013f3b50",
   "metadata": {},
   "outputs": [],
   "source": [
    "MODEL_NAME = \"gpt-3.5-turbo-0125\"\n",
    "# MODEL_NAME = \"gpt-3.5-turbo-instruct\"\n",
    "# MODEL_NAME = \"gpt-4-0125-preview\"\n",
    "TEMPERATURE = 0.7\n",
    "# OpenAIクライアントの初期化\n",
    "client = OpenAI()"
   ]
  },
  {
   "cell_type": "code",
   "execution_count": 8,
   "id": "a361a5cb-1d00-45fa-98ad-a2ec4af24a34",
   "metadata": {},
   "outputs": [],
   "source": [
    "functions = \\\n",
    "[\n",
    "    {\n",
    "        # 【日付範囲の特定】\n",
    "        # 関数名\n",
    "        \"name\": \"date_range_from_word_updated_fixed\",\n",
    "        # 関数の説明\n",
    "        \"description\": \"与えられた単語から日付の範囲を特定し、文字列で返す。\",\n",
    "        # 関数の引数の定義\n",
    "        \"parameters\":\n",
    "         {\n",
    "            \"type\": \"object\",\n",
    "            \"properties\":\n",
    "             {\n",
    "                \"word\":\n",
    "                {\n",
    "                    \"type\": \"string\",\n",
    "                    \"description\": \"日付範囲を示唆する単語や文章。例えば、「最近」、「今年」、「今週」、「来週」、「昨日」、または「未来」といったキーワードが含まれる文章が入ります。\"\n",
    "                }\n",
    "            },\n",
    "            \"required\": [\"word\"],\n",
    "        }\n",
    "    },\n",
    "]\n"
   ]
  },
  {
   "cell_type": "code",
   "execution_count": 9,
   "id": "4033d13c-0d1a-4494-9019-d88152db4993",
   "metadata": {},
   "outputs": [],
   "source": [
    "def date_range_from_word_updated_fixed(word):\n",
    "    # 現在の日時を取得\n",
    "    now = dt.datetime.now()\n",
    "    # 日付の範囲を格納する変数を初期化\n",
    "    date_range = \"\"\n",
    "    \n",
    "    if \"最近\" in word:\n",
    "        six_months_ago = now - dt.timedelta(days=182) # 大体半年前\n",
    "        date_range = f\"{six_months_ago.strftime('%Y-%m-%d')}から{now.strftime('%Y-%m-%d')}まで\"\n",
    "    \n",
    "    elif word == \"今年\":\n",
    "        start_of_year = dt.datetime(now.year, 1, 1)\n",
    "        end_of_year = dt.datetime(now.year, 12, 31)\n",
    "        date_range = f\"{start_of_year.strftime('%Y-%m-%d')}から{end_of_year.strftime('%Y-%m-%d')}まで\"\n",
    "    \n",
    "    elif word == \"今週\":\n",
    "        start_of_week = now - dt.timedelta(days=now.weekday())\n",
    "        end_of_week = start_of_week + dt.timedelta(days=6)\n",
    "        date_range = f\"{start_of_week.strftime('%Y-%m-%d')}から{end_of_week.strftime('%Y-%m-%d')}まで\"\n",
    "    \n",
    "    elif word == \"来週\":\n",
    "        start_of_next_week = now + dt.timedelta(days=(7 - now.weekday()))\n",
    "        end_of_next_week = start_of_next_week + dt.timedelta(days=6)\n",
    "        date_range = f\"{start_of_next_week.strftime('%Y-%m-%d')}から{end_of_next_week.strftime('%Y-%m-%d')}まで\"\n",
    "    \n",
    "    elif word == \"昨日\":\n",
    "        yesterday = now - dt.timedelta(days=1)\n",
    "        date_range = yesterday.strftime('%Y-%m-%d')\n",
    "    \n",
    "    elif \"未来\" in word:\n",
    "        future_time = word.replace(\"未来\", \"\").strip()\n",
    "        if future_time == \"\":\n",
    "            start_of_next_year = dt.datetime(now.year + 1, 1, 1)\n",
    "            end_of_next_year = dt.datetime(now.year + 1, 12, 31)\n",
    "            date_range = f\"{now.strftime('%Y-%m-%d')}から{start_of_next_year.strftime('%Y-%m-%d')}まで\"\n",
    "        elif future_time.isdigit():\n",
    "            future_date = now + dt.timedelta(days=365 * int(future_time))\n",
    "            date_range = future_date.strftime('%Y-%m-%d')\n",
    "        else:\n",
    "            # 不正確な入力に対する処理を追加するか、エラーメッセージを表示する\n",
    "            return \"不正確な入力: \" + word\n",
    "    \n",
    "    elif \"最新\" in word:\n",
    "        # 「最新の」処理\n",
    "        six_months_ago = now - dt.timedelta(days=182) # 大体半年前\n",
    "        date_range = f\"{six_months_ago.strftime('%Y-%m-%d')}から{now.strftime('%Y-%m-%d')}までの{word.replace('最新', '')}\"\n",
    "    \n",
    "    elif \"今年\" in word:\n",
    "        # 「今年の」処理\n",
    "        start_of_year = dt.datetime(now.year, 1, 1)\n",
    "        end_of_year = dt.datetime(now.year, 12, 31)\n",
    "        date_range = f\"{start_of_year.strftime('%Y-%m-%d')}から{end_of_year.strftime('%Y-%m-%d')}までの{word.replace('今年', '')}\"\n",
    "    \n",
    "    else:\n",
    "        # 日付のわかるワードがない場合はそのまま返す\n",
    "        return word\n",
    "    \n",
    "    return date_range\n"
   ]
  },
  {
   "cell_type": "code",
   "execution_count": 10,
   "id": "8bc73daa-861e-4c39-80d1-12029cdecbfd",
   "metadata": {},
   "outputs": [
    {
     "name": "stdout",
     "output_type": "stream",
     "text": [
      "2023-08-14から2024-02-12まで\n",
      "2024-01-01から2024-12-31まで\n",
      "2024-02-12から2024-02-18まで\n",
      "2024-02-19から2024-02-25まで\n",
      "2024-02-11\n",
      "2024-02-12から2025-01-01まで\n",
      "不正確な入力: 未来50年後\n",
      "不正確な入力: 未来5日後\n",
      "2023-08-14から2024-02-12までののAIトレンド\n",
      "2024-01-01から2024-12-31までののファッショントレンド\n"
     ]
    }
   ],
   "source": [
    "# テスト\n",
    "print(date_range_from_word_updated_fixed(\"最近\"))\n",
    "print(date_range_from_word_updated_fixed(\"今年\"))\n",
    "print(date_range_from_word_updated_fixed(\"今週\"))\n",
    "print(date_range_from_word_updated_fixed(\"来週\"))\n",
    "print(date_range_from_word_updated_fixed(\"昨日\"))\n",
    "print(date_range_from_word_updated_fixed(\"未来\"))\n",
    "print(date_range_from_word_updated_fixed(\"未来50年後\"))\n",
    "print(date_range_from_word_updated_fixed(\"未来5日後\"))\n",
    "print(date_range_from_word_updated_fixed(\"最新のAIトレンド\"))\n",
    "print(date_range_from_word_updated_fixed(\"今年のファッショントレンド\"))"
   ]
  },
  {
   "cell_type": "code",
   "execution_count": 11,
   "id": "4e7c9ddf-3d77-4b92-988e-e64a276a4158",
   "metadata": {},
   "outputs": [
    {
     "data": {
      "text/plain": [
       "['2024年', ' 最新テクノロジートレンド', ' 注目', ' 社会', ' 予想', ' 影響']"
      ]
     },
     "execution_count": 11,
     "metadata": {},
     "output_type": "execute_result"
    }
   ],
   "source": [
    "query = \"2024年, 最新テクノロジートレンド, 注目, 社会, 予想, 影響\"\n",
    "query_list = query.split(\",\")\n",
    "query_list"
   ]
  },
  {
   "cell_type": "code",
   "execution_count": 12,
   "id": "d0fe7aec-9212-49b0-b3ec-51df5620de8e",
   "metadata": {},
   "outputs": [
    {
     "data": {
      "text/plain": [
       "['2024年', '2023-08-14から2024-02-12までの テクノロジートレンド', ' 注目', ' 社会', ' 予想', ' 影響']"
      ]
     },
     "execution_count": 12,
     "metadata": {},
     "output_type": "execute_result"
    }
   ],
   "source": [
    "query_re_list = []\n",
    "for q in query_list:\n",
    "    \n",
    "    query_re_list.append(date_range_from_word_updated_fixed(q))\n",
    "    \n",
    "query_re_list"
   ]
  },
  {
   "cell_type": "code",
   "execution_count": 13,
   "id": "145caff4-9150-4e4a-8a34-bf3c1a0e15ab",
   "metadata": {},
   "outputs": [
    {
     "data": {
      "text/plain": [
       "'2024年, 2023-08-14から2024-02-12までの テクノロジートレンド,  注目,  社会,  予想,  影響'"
      ]
     },
     "execution_count": 13,
     "metadata": {},
     "output_type": "execute_result"
    }
   ],
   "source": [
    "# query_listの要素をカンマとスペースで結合して元のqueryに戻す\n",
    "query_reconstructed = \", \".join(query_re_list).strip()\n",
    "query_reconstructed\n"
   ]
  },
  {
   "cell_type": "code",
   "execution_count": 14,
   "id": "355c2029-c2cc-4a3b-9da7-cbcac0943fe0",
   "metadata": {},
   "outputs": [],
   "source": [
    "# 関数を選択して実行するデモ関数\n",
    "def function_calling_query(prompt):\n",
    "\n",
    "    # GPTにプロンプトと関数定義リストを一緒に投入し、Function callingの使用を指示\n",
    "    response = client.chat.completions.create(\n",
    "        model=MODEL_NAME,\n",
    "        temperature=TEMPERATURE,\n",
    "        messages=\n",
    "    \t[\n",
    "    \t\t{ \"role\": \"user\", \"content\": prompt}  # プロンプトを投入\n",
    "    \t],\n",
    "        functions=functions, # プロンプトと一緒に関数定義リストを投入\n",
    "        function_call=\"auto\", # Function callingを使用するが、その際、関数の選択はGPTに任せる\n",
    "    )\n",
    "\n",
    "    # GPTからの応答を抽出\n",
    "    message = response.choices[0].message\n",
    "    print(\"message: \", message)\n",
    "    function_call = message.function_call\n",
    "    print(\"function_call: \", function_call)\n",
    "    if function_call is not None:\n",
    "        # 実行すべき関数名\n",
    "        function_name = function_call.name\n",
    "        # その関数に渡すべき引数\n",
    "        # arguments = json.loads(function_call.arguments)\n",
    "        # promptを直接引数として使用\n",
    "        arguments = {\"word\": prompt}\n",
    "    \n",
    "        # 関数の選択と実行\n",
    "        if function_name == \"date_range_from_word_updated_fixed\":\n",
    "            # date_range_from_word_updated_fixed関数を実行\n",
    "            function_response = date_range_from_word_updated_fixed(arguments[\"word\"])\n",
    "            answer = function_response\n",
    "        else:\n",
    "            # 他の関数が選択された場合の処理\n",
    "            # この例では、選択された関数がdate_range_from_word_updated_fixedのみであるため、他の分岐は省略\n",
    "            # answer = \"該当する関数がありません。\"\n",
    "            answer = prompt\n",
    "    else:\n",
    "        answer = prompt\n",
    "    return answer"
   ]
  },
  {
   "cell_type": "code",
   "execution_count": 15,
   "id": "b6705455-b17b-4b6a-846d-20429b474fe8",
   "metadata": {},
   "outputs": [
    {
     "name": "stdout",
     "output_type": "stream",
     "text": [
      "message:  ChatCompletionMessage(content=None, role='assistant', function_call=FunctionCall(arguments='{\"word\":\"最近\"}', name='date_range_from_word_updated_fixed'), tool_calls=None)\n",
      "function_call:  FunctionCall(arguments='{\"word\":\"最近\"}', name='date_range_from_word_updated_fixed')\n",
      "2023-08-14から2024-02-12まで\n"
     ]
    }
   ],
   "source": [
    "# テスト用プロンプト\n",
    "prompt = \"最近\"\n",
    "# 関数の実行と結果の表示\n",
    "print(function_calling_query(prompt))"
   ]
  },
  {
   "cell_type": "code",
   "execution_count": 17,
   "id": "edd21ece-bd1f-4566-95f7-7bd26077968a",
   "metadata": {},
   "outputs": [
    {
     "name": "stdout",
     "output_type": "stream",
     "text": [
      "message:  ChatCompletionMessage(content=None, role='assistant', function_call=FunctionCall(arguments='{\"word\":\"2024年\"}', name='date_range_from_word_updated_fixed'), tool_calls=None)\n",
      "function_call:  FunctionCall(arguments='{\"word\":\"2024年\"}', name='date_range_from_word_updated_fixed')\n",
      "message:  ChatCompletionMessage(content=None, role='assistant', function_call=FunctionCall(arguments='{\"word\":\"最新\"}', name='date_range_from_word_updated_fixed'), tool_calls=None)\n",
      "function_call:  FunctionCall(arguments='{\"word\":\"最新\"}', name='date_range_from_word_updated_fixed')\n",
      "message:  ChatCompletionMessage(content=None, role='assistant', function_call=FunctionCall(arguments='{\"word\":\"注目\"}', name='date_range_from_word_updated_fixed'), tool_calls=None)\n",
      "function_call:  FunctionCall(arguments='{\"word\":\"注目\"}', name='date_range_from_word_updated_fixed')\n",
      "message:  ChatCompletionMessage(content=None, role='assistant', function_call=FunctionCall(arguments='{\"word\":\"社会\"}', name='date_range_from_word_updated_fixed'), tool_calls=None)\n",
      "function_call:  FunctionCall(arguments='{\"word\":\"社会\"}', name='date_range_from_word_updated_fixed')\n",
      "message:  ChatCompletionMessage(content='すみません、もう少し具体的な情報を教えていただけますか？予想に関する具体的な内容やコンテキストを教えていただけると、より正確な情報をお伝えできます。', role='assistant', function_call=None, tool_calls=None)\n",
      "function_call:  None\n",
      "message:  ChatCompletionMessage(content='申し訳ありませんが、もう少し具体的な情報を教えていただけますか？どのような影響についてお話ししたいですか？', role='assistant', function_call=None, tool_calls=None)\n",
      "function_call:  None\n"
     ]
    },
    {
     "data": {
      "text/plain": [
       "['2024年', '2023-08-14から2024-02-12までの テクノロジートレンド', ' 注目', ' 社会', ' 予想', ' 影響']"
      ]
     },
     "execution_count": 17,
     "metadata": {},
     "output_type": "execute_result"
    }
   ],
   "source": [
    "query_re_list = []\n",
    "for q in query_list:\n",
    "    f_c_q = function_calling_query(q)\n",
    "    query_re_list.append(f_c_q)\n",
    "    \n",
    "query_re_list"
   ]
  },
  {
   "cell_type": "code",
   "execution_count": null,
   "id": "0f6ab77f-0c23-4b31-8b5b-c7de1f9875dc",
   "metadata": {},
   "outputs": [],
   "source": []
  }
 ],
 "metadata": {
  "kernelspec": {
   "display_name": "Python 3 (ipykernel)",
   "language": "python",
   "name": "python3"
  },
  "language_info": {
   "codemirror_mode": {
    "name": "ipython",
    "version": 3
   },
   "file_extension": ".py",
   "mimetype": "text/x-python",
   "name": "python",
   "nbconvert_exporter": "python",
   "pygments_lexer": "ipython3",
   "version": "3.10.12"
  }
 },
 "nbformat": 4,
 "nbformat_minor": 5
}
