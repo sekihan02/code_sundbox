{
 "cells": [
  {
   "cell_type": "code",
   "execution_count": 1,
   "id": "83601720-4436-42aa-8ec2-f4d8216519d1",
   "metadata": {},
   "outputs": [
    {
     "name": "stdout",
     "output_type": "stream",
     "text": [
      "Requirement already satisfied: pip in /usr/local/lib/python3.10/dist-packages (24.0)\n",
      "\u001b[33mWARNING: Running pip as the 'root' user can result in broken permissions and conflicting behaviour with the system package manager. It is recommended to use a virtual environment instead: https://pip.pypa.io/warnings/venv\u001b[0m\u001b[33m\n",
      "\u001b[0m"
     ]
    }
   ],
   "source": [
    "!python3 -m pip install --upgrade pip"
   ]
  },
  {
   "cell_type": "code",
   "execution_count": 2,
   "id": "118d1bfb-7d2f-495e-b2a3-43802d79be88",
   "metadata": {
    "scrolled": true,
    "tags": []
   },
   "outputs": [
    {
     "name": "stdout",
     "output_type": "stream",
     "text": [
      "Requirement already satisfied: arxiv==2.1.0 in /usr/local/lib/python3.10/dist-packages (2.1.0)\n",
      "Requirement already satisfied: feedparser==6.0.10 in /usr/local/lib/python3.10/dist-packages (from arxiv==2.1.0) (6.0.10)\n",
      "Requirement already satisfied: requests==2.31.0 in /usr/local/lib/python3.10/dist-packages (from arxiv==2.1.0) (2.31.0)\n",
      "Requirement already satisfied: sgmllib3k in /usr/local/lib/python3.10/dist-packages (from feedparser==6.0.10->arxiv==2.1.0) (1.0.0)\n",
      "Requirement already satisfied: charset-normalizer<4,>=2 in /usr/local/lib/python3.10/dist-packages (from requests==2.31.0->arxiv==2.1.0) (2.1.1)\n",
      "Requirement already satisfied: idna<4,>=2.5 in /usr/local/lib/python3.10/dist-packages (from requests==2.31.0->arxiv==2.1.0) (3.4)\n",
      "Requirement already satisfied: urllib3<3,>=1.21.1 in /usr/local/lib/python3.10/dist-packages (from requests==2.31.0->arxiv==2.1.0) (1.26.13)\n",
      "Requirement already satisfied: certifi>=2017.4.17 in /usr/local/lib/python3.10/dist-packages (from requests==2.31.0->arxiv==2.1.0) (2022.12.7)\n",
      "\u001b[33mWARNING: Running pip as the 'root' user can result in broken permissions and conflicting behaviour with the system package manager. It is recommended to use a virtual environment instead: https://pip.pypa.io/warnings/venv\u001b[0m\u001b[33m\n",
      "\u001b[0mRequirement already satisfied: python-dotenv in /usr/local/lib/python3.10/dist-packages (1.0.1)\n",
      "Requirement already satisfied: tiktoken in /usr/local/lib/python3.10/dist-packages (0.6.0)\n",
      "Requirement already satisfied: regex>=2022.1.18 in /usr/local/lib/python3.10/dist-packages (from tiktoken) (2023.12.25)\n",
      "Requirement already satisfied: requests>=2.26.0 in /usr/local/lib/python3.10/dist-packages (from tiktoken) (2.31.0)\n",
      "Requirement already satisfied: charset-normalizer<4,>=2 in /usr/local/lib/python3.10/dist-packages (from requests>=2.26.0->tiktoken) (2.1.1)\n",
      "Requirement already satisfied: idna<4,>=2.5 in /usr/local/lib/python3.10/dist-packages (from requests>=2.26.0->tiktoken) (3.4)\n",
      "Requirement already satisfied: urllib3<3,>=1.21.1 in /usr/local/lib/python3.10/dist-packages (from requests>=2.26.0->tiktoken) (1.26.13)\n",
      "Requirement already satisfied: certifi>=2017.4.17 in /usr/local/lib/python3.10/dist-packages (from requests>=2.26.0->tiktoken) (2022.12.7)\n",
      "\u001b[33mWARNING: Running pip as the 'root' user can result in broken permissions and conflicting behaviour with the system package manager. It is recommended to use a virtual environment instead: https://pip.pypa.io/warnings/venv\u001b[0m\u001b[33m\n",
      "\u001b[0mRequirement already satisfied: openai==1.3.4 in /usr/local/lib/python3.10/dist-packages (1.3.4)\n",
      "Requirement already satisfied: anyio<4,>=3.5.0 in /usr/local/lib/python3.10/dist-packages (from openai==1.3.4) (3.7.1)\n",
      "Requirement already satisfied: distro<2,>=1.7.0 in /usr/lib/python3/dist-packages (from openai==1.3.4) (1.7.0)\n",
      "Requirement already satisfied: httpx<1,>=0.23.0 in /usr/local/lib/python3.10/dist-packages (from openai==1.3.4) (0.26.0)\n",
      "Requirement already satisfied: pydantic<3,>=1.9.0 in /usr/local/lib/python3.10/dist-packages (from openai==1.3.4) (1.10.13)\n",
      "Requirement already satisfied: tqdm>4 in /usr/local/lib/python3.10/dist-packages (from openai==1.3.4) (4.66.1)\n",
      "Requirement already satisfied: typing-extensions<5,>=4.5 in /usr/local/lib/python3.10/dist-packages (from openai==1.3.4) (4.9.0)\n",
      "Requirement already satisfied: idna>=2.8 in /usr/local/lib/python3.10/dist-packages (from anyio<4,>=3.5.0->openai==1.3.4) (3.4)\n",
      "Requirement already satisfied: sniffio>=1.1 in /usr/local/lib/python3.10/dist-packages (from anyio<4,>=3.5.0->openai==1.3.4) (1.3.0)\n",
      "Requirement already satisfied: exceptiongroup in /usr/local/lib/python3.10/dist-packages (from anyio<4,>=3.5.0->openai==1.3.4) (1.2.0)\n",
      "Requirement already satisfied: certifi in /usr/local/lib/python3.10/dist-packages (from httpx<1,>=0.23.0->openai==1.3.4) (2022.12.7)\n",
      "Requirement already satisfied: httpcore==1.* in /usr/local/lib/python3.10/dist-packages (from httpx<1,>=0.23.0->openai==1.3.4) (1.0.3)\n",
      "Requirement already satisfied: h11<0.15,>=0.13 in /usr/local/lib/python3.10/dist-packages (from httpcore==1.*->httpx<1,>=0.23.0->openai==1.3.4) (0.14.0)\n",
      "\u001b[33mWARNING: Running pip as the 'root' user can result in broken permissions and conflicting behaviour with the system package manager. It is recommended to use a virtual environment instead: https://pip.pypa.io/warnings/venv\u001b[0m\u001b[33m\n",
      "\u001b[0mRequirement already satisfied: duckduckgo-search==4.4 in /usr/local/lib/python3.10/dist-packages (4.4)\n",
      "Requirement already satisfied: docstring-inheritance>=2.1.2 in /usr/local/lib/python3.10/dist-packages (from duckduckgo-search==4.4) (2.1.2)\n",
      "Requirement already satisfied: click>=8.1.7 in /usr/local/lib/python3.10/dist-packages (from duckduckgo-search==4.4) (8.1.7)\n",
      "Requirement already satisfied: curl-cffi>=0.6.0b7 in /usr/local/lib/python3.10/dist-packages (from duckduckgo-search==4.4) (0.6.0b9)\n",
      "Requirement already satisfied: lxml>=4.9.3 in /usr/local/lib/python3.10/dist-packages (from duckduckgo-search==4.4) (4.9.4)\n",
      "Requirement already satisfied: nest-asyncio>=1.6.0 in /usr/local/lib/python3.10/dist-packages (from duckduckgo-search==4.4) (1.6.0)\n",
      "Requirement already satisfied: cffi>=1.12.0 in /usr/local/lib/python3.10/dist-packages (from curl-cffi>=0.6.0b7->duckduckgo-search==4.4) (1.16.0)\n",
      "Requirement already satisfied: certifi in /usr/local/lib/python3.10/dist-packages (from curl-cffi>=0.6.0b7->duckduckgo-search==4.4) (2022.12.7)\n",
      "Requirement already satisfied: pycparser in /usr/local/lib/python3.10/dist-packages (from cffi>=1.12.0->curl-cffi>=0.6.0b7->duckduckgo-search==4.4) (2.21)\n",
      "\u001b[33mWARNING: Running pip as the 'root' user can result in broken permissions and conflicting behaviour with the system package manager. It is recommended to use a virtual environment instead: https://pip.pypa.io/warnings/venv\u001b[0m\u001b[33m\n",
      "\u001b[0m"
     ]
    }
   ],
   "source": [
    "!pip3 install arxiv==2.1.0\n",
    "!pip3 install python-dotenv tiktoken\n",
    "# !pip install openai==0.27.8\n",
    "# !pip install openai==1.2.3\n",
    "!pip install openai==1.3.4\n",
    "!pip install -U duckduckgo-search==4.4"
   ]
  },
  {
   "cell_type": "code",
   "execution_count": 3,
   "id": "62a2e0b1-0475-4dc6-b947-7ae2df8725e5",
   "metadata": {},
   "outputs": [],
   "source": [
    "import os\n",
    "import json\n",
    "import datetime as dt\n",
    "import yaml\n",
    "import warnings\n",
    "\n",
    "\n",
    "import arxiv\n",
    "import openai\n",
    "from openai import OpenAI\n",
    "from dotenv import load_dotenv\n",
    "\n",
    "from duckduckgo_search import DDGS, AsyncDDGS\n",
    "import asyncio\n",
    "\n",
    "# すべての警告を無視する\n",
    "warnings.filterwarnings('ignore')"
   ]
  },
  {
   "cell_type": "code",
   "execution_count": 4,
   "id": "1c65f19d-5dfd-4dfb-b7d9-3c5fef3d3712",
   "metadata": {},
   "outputs": [],
   "source": [
    "from contextlib import contextmanager\n",
    "from time import time\n",
    "\n",
    "class Timer:\n",
    "    \"\"\"処理時間を表示するクラス\n",
    "    with Timer(prefix=f'pred cv={i}'):\n",
    "        y_pred_i = predict(model, loader=test_loader)\n",
    "    \n",
    "    with Timer(prefix='fit fold={} '.format(i)):\n",
    "        clf.fit(x_train, y_train, \n",
    "                eval_set=[(x_valid, y_valid)],  \n",
    "                early_stopping_rounds=100,\n",
    "                verbose=verbose)\n",
    "\n",
    "    with Timer(prefix='fit fold={} '.format(i), verbose=500):\n",
    "        clf.fit(x_train, y_train, \n",
    "                eval_set=[(x_valid, y_valid)],  \n",
    "                early_stopping_rounds=100,\n",
    "                verbose=verbose)\n",
    "    \"\"\"\n",
    "    def __init__(self, logger=None, format_str='{:.3f}[s]', prefix=None, suffix=None, sep=' ', verbose=0):\n",
    "\n",
    "        if prefix: format_str = str(prefix) + sep + format_str\n",
    "        if suffix: format_str = format_str + sep + str(suffix)\n",
    "        self.format_str = format_str\n",
    "        self.logger = logger\n",
    "        self.start = None\n",
    "        self.end = None\n",
    "        self.verbose = verbose\n",
    "\n",
    "    @property\n",
    "    def duration(self):\n",
    "        if self.end is None:\n",
    "            return 0\n",
    "        return self.end - self.start\n",
    "\n",
    "    def __enter__(self):\n",
    "        self.start = time()\n",
    "\n",
    "    def __exit__(self, exc_type, exc_val, exc_tb):\n",
    "        self.end = time()\n",
    "        out_str = self.format_str.format(self.duration)\n",
    "        if self.logger:\n",
    "            self.logger.info(out_str)\n",
    "        else:\n",
    "            print(out_str)"
   ]
  },
  {
   "cell_type": "code",
   "execution_count": 5,
   "id": "53384c98-e219-4a74-a4ab-f3113a1dac61",
   "metadata": {},
   "outputs": [
    {
     "data": {
      "text/plain": [
       "True"
      ]
     },
     "execution_count": 5,
     "metadata": {},
     "output_type": "execute_result"
    }
   ],
   "source": [
    "load_dotenv()"
   ]
  },
  {
   "cell_type": "code",
   "execution_count": 6,
   "id": "f7cc6bde-69b1-4539-90f8-ca63555f6450",
   "metadata": {},
   "outputs": [],
   "source": [
    "openai.api_key = os.getenv(\"OPENAI_API_KEY\")"
   ]
  },
  {
   "cell_type": "code",
   "execution_count": 7,
   "id": "0041a7ec-b064-486c-850c-abfefaf46fa7",
   "metadata": {},
   "outputs": [],
   "source": [
    "MODEL_NAME = \"gpt-3.5-turbo-0125\"\n",
    "# MODEL_NAME = \"gpt-3.5-turbo-instruct\"\n",
    "# MODEL_NAME = \"gpt-4-0125-preview\"\n",
    "TEMPERATURE = 0.7\n",
    "# OpenAIクライアントの初期化\n",
    "client = OpenAI()"
   ]
  },
  {
   "cell_type": "code",
   "execution_count": 8,
   "id": "94024e8f-22be-464e-86ba-09c40641bd22",
   "metadata": {},
   "outputs": [],
   "source": [
    "# 質問\n",
    "# question = \"禁闕の変について教えてください\"\n",
    "\n",
    "question = \"今日の東京と稚内市の天気を教えてください\""
   ]
  },
  {
   "cell_type": "code",
   "execution_count": 9,
   "id": "a280fa13-7f9d-4774-80ee-317d46714583",
   "metadata": {},
   "outputs": [],
   "source": [
    "# 各ノードの名称を定義\n",
    "RESEARCH_NODE = \"research\"\n",
    "RE_RESEARCH_NODE = \"re-research\"\n",
    "QUALITY_ASSURANCE_NODE = \"quality_assurance\"\n",
    "WRITER_NODE = \"writer\"\n",
    "SUPERVISOR_NODE = \"supervisor\"\n",
    "ORGANIZE = \"organize\"\n",
    "DECISION = \"decision\""
   ]
  },
  {
   "cell_type": "code",
   "execution_count": null,
   "id": "aa1b1f84-68b3-4506-a174-4cf6e0dc58af",
   "metadata": {},
   "outputs": [],
   "source": []
  },
  {
   "cell_type": "markdown",
   "id": "66639ce5-bb17-49c1-820c-e8a7d2d0a2ec",
   "metadata": {},
   "source": [
    "## ノードの定義"
   ]
  },
  {
   "cell_type": "code",
   "execution_count": 10,
   "id": "4edf4171-0e32-4477-88e6-daf6cdff42cc",
   "metadata": {},
   "outputs": [],
   "source": [
    "# チームメンバーの定義　特に使わないけど\n",
    "\"\"\"\n",
    "Decision: 入力に対してどのタスクを実行するかの判断を行う\n",
    "Organize planノード: タスクをどのように実行していくかを入力と実行するタスクの内容から整理します\n",
    "Researchノード: Web上から必要な情報を検索し、ユーザーからのリクエストに応じて記事を作成します。\n",
    "Re-Researchノード: (QAでnot acceptだったら)問い合わせと直前の検索クエリから今まで使っていない検索クエリをを生成し、それを基にWeb上から必要な情報を検索し、ユーザーからのリクエストに応じて記事を作成します。\n",
    "Quality Assurance (QA) ノード: 記事の品質が基準を満たしているかをチェックし、満たしていない場合はフィードバックを返します。品質の受け入れ基準は常にこのノードによって決定されます。\n",
    "Writerノード: 世界最高レベルのAIチェッカーでも人間が書いたと判断されるような文章を作成します。\n",
    "Supervisorノード: 会話を管理し、次に動作するワーカーを指示します。全てのタスクが完了したら、「FINISH」と応答します。\n",
    "\"\"\"\n",
    "team_members = [\n",
    "    {\"name\": RESEARCH_NODE,\n",
    "     \"description\": \"Search the web for necessary information and write articles as requested by users.\"},\n",
    "    {\"name\": RE_RESEARCH_NODE,\n",
    "     \"description\": \"Generate new search queries based on user inquiries and previous search queries that have not been used before, then search the web for necessary information to create articles as requested by users. Search the web for necessary information and write articles as requested by users.\"},\n",
    "    {\"name\": QUALITY_ASSURANCE_NODE,\n",
    "     \"description\": f\"Check that the quality of the article meets the criteria. If not, return feedback. The acceptability of deliverables is always determined by {QUALITY_ASSURANCE_NODE}.\"},\n",
    "    {\"name\": WRITER_NODE,\n",
    "     \"description\": \"Write articles that even the world's best AI checkers would judge as written by a human.\"},\n",
    "]"
   ]
  },
  {
   "cell_type": "code",
   "execution_count": 11,
   "id": "5833e802-446d-4e20-8104-dfc2736f908b",
   "metadata": {},
   "outputs": [],
   "source": [
    "# エージェントに追加するシステムプロンプト作成関数\n",
    "def create_agent_system(\n",
    "        system_prompt: list,  # システムからエージェントへの初期プロンプト\n",
    "        team_members: str,   # メンバーの役割\n",
    "):\n",
    "    # システムプロンプトに自律的な働きに関する指示を追加\n",
    "    system_prompt.append({\"role\" : \"system\", \"content\" : \"Work autonomously according to your specialty, using the tools available to you.\"})\n",
    "    system_prompt.append({\"role\" : \"system\", \"content\" : \" Do not ask for clarification.\"})\n",
    "    system_prompt.append({\"role\" : \"system\", \"content\" : \" Your other team members (and other teams) will collaborate with you with their own specialties.\"})\n",
    "    system_prompt.append({\"role\" : \"system\", \"content\" : f\" You are chosen for a reason! You are one of the following team members: {team_members}.\"})\n",
    "    \"\"\"\n",
    "    あなたの専門分野に従って自律的に働いてください。使用可能なツールを使ってください\n",
    "    確認のために質問をしないでください\n",
    "    あなたの他のチームメンバーや他のチームも、それぞれの専門分野であなたと協力します\n",
    "    あなたが選ばれたのには理由があります！あなたは以下のチームメンバーの一人です: {team_members}\n",
    "    \"\"\"\n",
    "    # エージェントを実行するsystem_promptを返す\n",
    "    return system_prompt"
   ]
  },
  {
   "cell_type": "code",
   "execution_count": 12,
   "id": "28cd443a-285b-4199-89f6-a82e3c743743",
   "metadata": {},
   "outputs": [],
   "source": [
    "# Decisionノードの定義\n",
    "def search_decision_node(\n",
    "        model_name: str,\n",
    "        input_text: str,\n",
    "):\n",
    "    # 検索判断エージェントを呼び出し、結果を取得\n",
    "    # あなたは、input_text を受け取り、それを自分が持つ知識で絶対に正しく回答できるかを思慮深く考えて判断する決定者です。\n",
    "    prompt = [{'role': 'system', 'content': \"You are the decider who receives input_text and judiciously considers whether you can respond with certainty on your own.\"}]\n",
    "    prompt = [{'role': 'system', 'content': \"If you receive input_text and determine that it's better to generate an answer by conducting an external search, please decide 'Search'. If you can answer with your own knowledge and the query does not pertain to recent content, then please reply 'Not Search'.\"}]\n",
    "    \n",
    "    decision_prompt = create_agent_system(prompt, DECISION)\n",
    "    decision_prompt.append({\"role\": \"system\", \"content\": 'Please generate a JSON from the following input text. Use \"decision_result\" as the schema and \"decision results\" as the key, and generate it in the format of {\"decision_result\": \"decision results\"}.'})\n",
    "    decision_prompt.append({\"role\": \"user\", \"content\": 'Generate a JSON from the following input text. Use \"decision_result as the schema and the decision result as the key, creating it in the format of {\"decision_result\": \"Search or Not Search\"}.'})\n",
    "    decision_prompt.append({\"role\": \"user\", \"content\": f\"Input text: {input_text}\"})\n",
    "    \"\"\"\n",
    "    システム\n",
    "    あなたは、input_text を受け取り、それを自分が持つ知識で絶対に正しく回答できるかを思慮深く考えて判断する決定者です。\n",
    "    あなたは、input_text を受け取り、外部検索を行い回答を生成した方が良いと判断するのなら  Search と判断してください。あなた自身の知識で回答でき、最近の内容が聞かれているのでなければ　Not Search と回答してください。\n",
    "    (これは入れてません。回答できるか自信が無くても Search と回答します。) \n",
    "    \n",
    "    あなたの専門分野に従って自律的に働いてください。使用可能なツールを使ってください\n",
    "    確認のために質問をしないでください\n",
    "    あなたの他のチームメンバーや他のチームも、それぞれの専門分野であなたと協力します\n",
    "    あなたが選ばれたのには理由があります！あなたは以下のチームメンバーの一人です: {team_members}\n",
    "    以下の入力されたテキストからJSONを生成してください。スキーマとして「decision_result」、キーとして「decision results」を使用し、{\"decision_result\": decision results}の形式で生成してください。\n",
    "    user\n",
    "    以下の入力されたテキストからJSONを生成する。スキーマとして \"decision_result \"を使用し、キーとして判断結果を使用して、{\"decision_result\": Search or Not Search}というフォーマットで生成します。\n",
    "    入力されたテキスト: {input_text}\n",
    "    \"\"\"\n",
    "    \n",
    "    # Research用のプロンプトテンプレートを作成\n",
    "    response = client.chat.completions.create(\n",
    "        model=model_name, # model = \"deployment_name\".\n",
    "        messages=decision_prompt,\n",
    "        response_format={ \"type\": \"json_object\" },\n",
    "        temperature=TEMPERATURE,\n",
    "    )\n",
    "    decision_res_str = response.choices[0].message.content\n",
    "    # print(search_res_str)\n",
    "    \n",
    "    # JSON形式の文字列を辞書に変換\n",
    "    search_res = json.loads(decision_res_str)\n",
    "    \n",
    "    # 出力と新しいメッセージをステートに反映\n",
    "    return {\n",
    "        \"output\": search_res[\"decision_result\"],\n",
    "        \"messages\": input_text\n",
    "    }"
   ]
  },
  {
   "cell_type": "code",
   "execution_count": 13,
   "id": "3fb78da7-5bf3-46f2-8130-fc6b3e14fd61",
   "metadata": {},
   "outputs": [
    {
     "name": "stdout",
     "output_type": "stream",
     "text": [
      "thinking time by decision. 0.950[s]\n"
     ]
    },
    {
     "data": {
      "text/plain": [
       "{'output': 'Not Search', 'messages': 'hello'}"
      ]
     },
     "execution_count": 13,
     "metadata": {},
     "output_type": "execute_result"
    }
   ],
   "source": [
    "question = \"\"\"hello\"\"\"\n",
    "with Timer(prefix=f'thinking time by decision.'):\n",
    "    decision_res = search_decision_node(MODEL_NAME, question)\n",
    "    \n",
    "decision_res"
   ]
  },
  {
   "cell_type": "code",
   "execution_count": 14,
   "id": "1ba89919-3838-4598-bb07-ec82bccce9a9",
   "metadata": {},
   "outputs": [
    {
     "name": "stdout",
     "output_type": "stream",
     "text": [
      "thinking time by decision. 0.629[s]\n"
     ]
    },
    {
     "data": {
      "text/plain": [
       "{'output': 'Not Search', 'messages': '雨の日の過ごし方を教えてください。'}"
      ]
     },
     "execution_count": 14,
     "metadata": {},
     "output_type": "execute_result"
    }
   ],
   "source": [
    "question = \"\"\"雨の日の過ごし方を教えてください。\"\"\"\n",
    "with Timer(prefix=f'thinking time by decision.'):\n",
    "    decision_res = search_decision_node(MODEL_NAME, question)\n",
    "    \n",
    "decision_res"
   ]
  },
  {
   "cell_type": "code",
   "execution_count": 15,
   "id": "3978ee92-5e8e-49ed-ab53-83ecd56ce326",
   "metadata": {},
   "outputs": [
    {
     "name": "stdout",
     "output_type": "stream",
     "text": [
      "thinking time by decision. 1.008[s]\n"
     ]
    },
    {
     "data": {
      "text/plain": [
       "{'output': 'Search',\n",
       " 'messages': '2024年に注目されている最新のテクノロジートレンドは何ですか？\\nまた、それらのトレンドが社会にどのような影響を与えると予想されますか？'}"
      ]
     },
     "execution_count": 15,
     "metadata": {},
     "output_type": "execute_result"
    }
   ],
   "source": [
    "question = \"\"\"2024年に注目されている最新のテクノロジートレンドは何ですか？\n",
    "また、それらのトレンドが社会にどのような影響を与えると予想されますか？\"\"\"\n",
    "with Timer(prefix=f'thinking time by decision.'):\n",
    "    decision_res = search_decision_node(MODEL_NAME, question)\n",
    "    \n",
    "decision_res"
   ]
  },
  {
   "cell_type": "code",
   "execution_count": 16,
   "id": "53329580-dbcc-4198-b453-bf6efcabb696",
   "metadata": {},
   "outputs": [
    {
     "name": "stdout",
     "output_type": "stream",
     "text": [
      "thinking time by decision. 0.509[s]\n"
     ]
    },
    {
     "data": {
      "text/plain": [
       "{'output': 'Search', 'messages': 'ワールドカップで最多優勝を誇るブラジルが近年優勝できない原因はどこにありますか？'}"
      ]
     },
     "execution_count": 16,
     "metadata": {},
     "output_type": "execute_result"
    }
   ],
   "source": [
    "question = \"\"\"ワールドカップで最多優勝を誇るブラジルが近年優勝できない原因はどこにありますか？\"\"\"\n",
    "# 過去と最近のブラジル代表の情報を取得、比較し違いを分析する\n",
    "# 最近のブラジル代表の代表選手の現状を取得、二つの結果から質問の回答を生成する必要がある\n",
    "with Timer(prefix=f'thinking time by decision.'):\n",
    "    decision_res = search_decision_node(MODEL_NAME, question)\n",
    "    \n",
    "decision_res"
   ]
  },
  {
   "cell_type": "code",
   "execution_count": 17,
   "id": "f62d7118-72ea-4108-903c-0dedccbf2db6",
   "metadata": {},
   "outputs": [
    {
     "data": {
      "text/plain": [
       "'Search'"
      ]
     },
     "execution_count": 17,
     "metadata": {},
     "output_type": "execute_result"
    }
   ],
   "source": [
    "decision_res[\"output\"]"
   ]
  }
 ],
 "metadata": {
  "kernelspec": {
   "display_name": "Python 3 (ipykernel)",
   "language": "python",
   "name": "python3"
  },
  "language_info": {
   "codemirror_mode": {
    "name": "ipython",
    "version": 3
   },
   "file_extension": ".py",
   "mimetype": "text/x-python",
   "name": "python",
   "nbconvert_exporter": "python",
   "pygments_lexer": "ipython3",
   "version": "3.10.12"
  }
 },
 "nbformat": 4,
 "nbformat_minor": 5
}
