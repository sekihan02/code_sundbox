{
 "cells": [
  {
   "cell_type": "code",
   "execution_count": 1,
   "id": "83601720-4436-42aa-8ec2-f4d8216519d1",
   "metadata": {},
   "outputs": [
    {
     "name": "stdout",
     "output_type": "stream",
     "text": [
      "Requirement already satisfied: pip in /usr/local/lib/python3.10/dist-packages (24.0)\n",
      "\u001b[33mWARNING: Running pip as the 'root' user can result in broken permissions and conflicting behaviour with the system package manager. It is recommended to use a virtual environment instead: https://pip.pypa.io/warnings/venv\u001b[0m\u001b[33m\n",
      "\u001b[0m"
     ]
    }
   ],
   "source": [
    "!python3 -m pip install --upgrade pip"
   ]
  },
  {
   "cell_type": "code",
   "execution_count": 2,
   "id": "118d1bfb-7d2f-495e-b2a3-43802d79be88",
   "metadata": {
    "scrolled": true,
    "tags": []
   },
   "outputs": [
    {
     "name": "stdout",
     "output_type": "stream",
     "text": [
      "Requirement already satisfied: arxiv==2.1.0 in /usr/local/lib/python3.10/dist-packages (2.1.0)\n",
      "Requirement already satisfied: feedparser==6.0.10 in /usr/local/lib/python3.10/dist-packages (from arxiv==2.1.0) (6.0.10)\n",
      "Requirement already satisfied: requests==2.31.0 in /usr/local/lib/python3.10/dist-packages (from arxiv==2.1.0) (2.31.0)\n",
      "Requirement already satisfied: sgmllib3k in /usr/local/lib/python3.10/dist-packages (from feedparser==6.0.10->arxiv==2.1.0) (1.0.0)\n",
      "Requirement already satisfied: charset-normalizer<4,>=2 in /usr/local/lib/python3.10/dist-packages (from requests==2.31.0->arxiv==2.1.0) (2.1.1)\n",
      "Requirement already satisfied: idna<4,>=2.5 in /usr/local/lib/python3.10/dist-packages (from requests==2.31.0->arxiv==2.1.0) (3.4)\n",
      "Requirement already satisfied: urllib3<3,>=1.21.1 in /usr/local/lib/python3.10/dist-packages (from requests==2.31.0->arxiv==2.1.0) (1.26.13)\n",
      "Requirement already satisfied: certifi>=2017.4.17 in /usr/local/lib/python3.10/dist-packages (from requests==2.31.0->arxiv==2.1.0) (2022.12.7)\n",
      "\u001b[33mWARNING: Running pip as the 'root' user can result in broken permissions and conflicting behaviour with the system package manager. It is recommended to use a virtual environment instead: https://pip.pypa.io/warnings/venv\u001b[0m\u001b[33m\n",
      "\u001b[0mRequirement already satisfied: python-dotenv in /usr/local/lib/python3.10/dist-packages (1.0.1)\n",
      "Requirement already satisfied: tiktoken in /usr/local/lib/python3.10/dist-packages (0.5.2)\n",
      "Requirement already satisfied: regex>=2022.1.18 in /usr/local/lib/python3.10/dist-packages (from tiktoken) (2023.12.25)\n",
      "Requirement already satisfied: requests>=2.26.0 in /usr/local/lib/python3.10/dist-packages (from tiktoken) (2.31.0)\n",
      "Requirement already satisfied: charset-normalizer<4,>=2 in /usr/local/lib/python3.10/dist-packages (from requests>=2.26.0->tiktoken) (2.1.1)\n",
      "Requirement already satisfied: idna<4,>=2.5 in /usr/local/lib/python3.10/dist-packages (from requests>=2.26.0->tiktoken) (3.4)\n",
      "Requirement already satisfied: urllib3<3,>=1.21.1 in /usr/local/lib/python3.10/dist-packages (from requests>=2.26.0->tiktoken) (1.26.13)\n",
      "Requirement already satisfied: certifi>=2017.4.17 in /usr/local/lib/python3.10/dist-packages (from requests>=2.26.0->tiktoken) (2022.12.7)\n",
      "\u001b[33mWARNING: Running pip as the 'root' user can result in broken permissions and conflicting behaviour with the system package manager. It is recommended to use a virtual environment instead: https://pip.pypa.io/warnings/venv\u001b[0m\u001b[33m\n",
      "\u001b[0mRequirement already satisfied: openai==1.3.4 in /usr/local/lib/python3.10/dist-packages (1.3.4)\n",
      "Requirement already satisfied: anyio<4,>=3.5.0 in /usr/local/lib/python3.10/dist-packages (from openai==1.3.4) (3.7.1)\n",
      "Requirement already satisfied: distro<2,>=1.7.0 in /usr/lib/python3/dist-packages (from openai==1.3.4) (1.7.0)\n",
      "Requirement already satisfied: httpx<1,>=0.23.0 in /usr/local/lib/python3.10/dist-packages (from openai==1.3.4) (0.26.0)\n",
      "Requirement already satisfied: pydantic<3,>=1.9.0 in /usr/local/lib/python3.10/dist-packages (from openai==1.3.4) (1.10.13)\n",
      "Requirement already satisfied: tqdm>4 in /usr/local/lib/python3.10/dist-packages (from openai==1.3.4) (4.66.1)\n",
      "Requirement already satisfied: typing-extensions<5,>=4.5 in /usr/local/lib/python3.10/dist-packages (from openai==1.3.4) (4.9.0)\n",
      "Requirement already satisfied: idna>=2.8 in /usr/local/lib/python3.10/dist-packages (from anyio<4,>=3.5.0->openai==1.3.4) (3.4)\n",
      "Requirement already satisfied: sniffio>=1.1 in /usr/local/lib/python3.10/dist-packages (from anyio<4,>=3.5.0->openai==1.3.4) (1.3.0)\n",
      "Requirement already satisfied: exceptiongroup in /usr/local/lib/python3.10/dist-packages (from anyio<4,>=3.5.0->openai==1.3.4) (1.2.0)\n",
      "Requirement already satisfied: certifi in /usr/local/lib/python3.10/dist-packages (from httpx<1,>=0.23.0->openai==1.3.4) (2022.12.7)\n",
      "Requirement already satisfied: httpcore==1.* in /usr/local/lib/python3.10/dist-packages (from httpx<1,>=0.23.0->openai==1.3.4) (1.0.2)\n",
      "Requirement already satisfied: h11<0.15,>=0.13 in /usr/local/lib/python3.10/dist-packages (from httpcore==1.*->httpx<1,>=0.23.0->openai==1.3.4) (0.14.0)\n",
      "\u001b[33mWARNING: Running pip as the 'root' user can result in broken permissions and conflicting behaviour with the system package manager. It is recommended to use a virtual environment instead: https://pip.pypa.io/warnings/venv\u001b[0m\u001b[33m\n",
      "\u001b[0mRequirement already satisfied: duckduckgo-search==4.4 in /usr/local/lib/python3.10/dist-packages (4.4)\n",
      "Requirement already satisfied: docstring-inheritance>=2.1.2 in /usr/local/lib/python3.10/dist-packages (from duckduckgo-search==4.4) (2.1.2)\n",
      "Requirement already satisfied: click>=8.1.7 in /usr/local/lib/python3.10/dist-packages (from duckduckgo-search==4.4) (8.1.7)\n",
      "Requirement already satisfied: curl-cffi>=0.6.0b7 in /usr/local/lib/python3.10/dist-packages (from duckduckgo-search==4.4) (0.6.0b9)\n",
      "Requirement already satisfied: lxml>=4.9.3 in /usr/local/lib/python3.10/dist-packages (from duckduckgo-search==4.4) (4.9.4)\n",
      "Requirement already satisfied: nest-asyncio>=1.6.0 in /usr/local/lib/python3.10/dist-packages (from duckduckgo-search==4.4) (1.6.0)\n",
      "Requirement already satisfied: cffi>=1.12.0 in /usr/local/lib/python3.10/dist-packages (from curl-cffi>=0.6.0b7->duckduckgo-search==4.4) (1.16.0)\n",
      "Requirement already satisfied: certifi in /usr/local/lib/python3.10/dist-packages (from curl-cffi>=0.6.0b7->duckduckgo-search==4.4) (2022.12.7)\n",
      "Requirement already satisfied: pycparser in /usr/local/lib/python3.10/dist-packages (from cffi>=1.12.0->curl-cffi>=0.6.0b7->duckduckgo-search==4.4) (2.21)\n",
      "\u001b[33mWARNING: Running pip as the 'root' user can result in broken permissions and conflicting behaviour with the system package manager. It is recommended to use a virtual environment instead: https://pip.pypa.io/warnings/venv\u001b[0m\u001b[33m\n",
      "\u001b[0m"
     ]
    }
   ],
   "source": [
    "!pip3 install arxiv==2.1.0\n",
    "!pip3 install python-dotenv tiktoken\n",
    "# !pip install openai==0.27.8\n",
    "# !pip install openai==1.2.3\n",
    "!pip install openai==1.3.4\n",
    "!pip install -U duckduckgo-search==4.4"
   ]
  },
  {
   "cell_type": "code",
   "execution_count": 3,
   "id": "62a2e0b1-0475-4dc6-b947-7ae2df8725e5",
   "metadata": {},
   "outputs": [],
   "source": [
    "import os\n",
    "import json\n",
    "import datetime as dt\n",
    "import yaml\n",
    "\n",
    "import arxiv\n",
    "import openai\n",
    "from openai import OpenAI\n",
    "from dotenv import load_dotenv\n"
   ]
  },
  {
   "cell_type": "code",
   "execution_count": 4,
   "id": "53384c98-e219-4a74-a4ab-f3113a1dac61",
   "metadata": {},
   "outputs": [
    {
     "data": {
      "text/plain": [
       "True"
      ]
     },
     "execution_count": 4,
     "metadata": {},
     "output_type": "execute_result"
    }
   ],
   "source": [
    "load_dotenv()"
   ]
  },
  {
   "cell_type": "code",
   "execution_count": 5,
   "id": "f7cc6bde-69b1-4539-90f8-ca63555f6450",
   "metadata": {},
   "outputs": [],
   "source": [
    "openai.api_key = os.getenv(\"OPENAI_API_KEY\")"
   ]
  },
  {
   "cell_type": "code",
   "execution_count": 6,
   "id": "0041a7ec-b064-486c-850c-abfefaf46fa7",
   "metadata": {},
   "outputs": [],
   "source": [
    "MODEL_NAME = \"gpt-3.5-turbo-0125\"\n",
    "\n",
    "# MODEL_NAME = \"gpt-3.5-turbo-instruct\"\n",
    "TEMPERATURE = 0.7\n",
    "# OpenAIクライアントの初期化\n",
    "client = OpenAI()"
   ]
  },
  {
   "cell_type": "code",
   "execution_count": 7,
   "id": "94024e8f-22be-464e-86ba-09c40641bd22",
   "metadata": {},
   "outputs": [],
   "source": [
    "# 質問\n",
    "# question = \"禁闕の変について教えてください\"\n",
    "\n",
    "question = \"今日の東京と稚内市の天気を教えてください\""
   ]
  },
  {
   "cell_type": "markdown",
   "id": "ca6f1ca1-ff5e-4576-9ec9-4ae569a12f1a",
   "metadata": {},
   "source": []
  },
  {
   "cell_type": "code",
   "execution_count": 8,
   "id": "bf740b29-7a9b-4f27-9126-83d64add8ace",
   "metadata": {},
   "outputs": [],
   "source": [
    "# エージェントに追加するシステムプロンプト作成関数\n",
    "def create_agent_system(\n",
    "        system_prompt: list,  # システムからエージェントへの初期プロンプト\n",
    "        team_members: str,   # メンバーの役割\n",
    "):\n",
    "    # システムプロンプトに自律的な働きに関する指示を追加\n",
    "    system_prompt.append({\"role\" : \"system\", \"content\" : \"Work autonomously according to your specialty, using the tools available to you.\"})\n",
    "    system_prompt.append({\"role\" : \"system\", \"content\" : \" Do not ask for clarification.\"})\n",
    "    system_prompt.append({\"role\" : \"system\", \"content\" : \" Your other team members (and other teams) will collaborate with you with their own specialties.\"})\n",
    "    system_prompt.append({\"role\" : \"system\", \"content\" : f\" You are chosen for a reason! You are one of the following team members: {team_members}.\"})\n",
    "    \"\"\"\n",
    "    あなたの専門分野に従って自律的に働いてください。使用可能なツールを使ってください\n",
    "    確認のために質問をしないでください\n",
    "    あなたの他のチームメンバーや他のチームも、それぞれの専門分野であなたと協力します\n",
    "    あなたが選ばれたのには理由があります！あなたは以下のチームメンバーの一人です: {team_members}\n",
    "    \"\"\"\n",
    "    # エージェントを実行するsystem_promptを返す\n",
    "    return system_prompt"
   ]
  },
  {
   "cell_type": "code",
   "execution_count": 9,
   "id": "759073ae-bfac-46e0-9b80-b92264846a70",
   "metadata": {},
   "outputs": [
    {
     "data": {
      "text/plain": [
       "[{'role': 'system',\n",
       "  'content': 'Work autonomously according to your specialty, using the tools available to you.'},\n",
       " {'role': 'system', 'content': ' Do not ask for clarification.'},\n",
       " {'role': 'system',\n",
       "  'content': ' Your other team members (and other teams) will collaborate with you with their own specialties.'},\n",
       " {'role': 'system',\n",
       "  'content': ' You are chosen for a reason! You are one of the following team members: research.'}]"
      ]
     },
     "execution_count": 9,
     "metadata": {},
     "output_type": "execute_result"
    }
   ],
   "source": [
    "# test\n",
    "system_prompt = []\n",
    "create_agent_system(system_prompt, \"research\")"
   ]
  },
  {
   "cell_type": "code",
   "execution_count": 10,
   "id": "a280fa13-7f9d-4774-80ee-317d46714583",
   "metadata": {},
   "outputs": [],
   "source": [
    "# 各ノードの名称を定義\n",
    "RESEARCH_NODE = \"research\"\n",
    "QUALITY_ASSURANCE_NODE = \"quality_assurance\"\n",
    "WRITER_NODE = \"writer\"\n",
    "SUPERVISOR_NODE = \"supervisor\""
   ]
  },
  {
   "cell_type": "code",
   "execution_count": 11,
   "id": "0960c9cf-2c1d-45c2-bbbb-95a649b61948",
   "metadata": {},
   "outputs": [],
   "source": [
    "# チームのスーパーバイザーを生成する関数\n",
    "def create_team_supervisor(\n",
    "        model_name: str,\n",
    "        system_prompt: list,\n",
    "        members: list,  # チームメンバーのリスト\n",
    "        job_result: str, # jobの結果\n",
    "):\n",
    "    # メンバー名のリストを生成\n",
    "    member_names = [member[\"name\"] for member in members]\n",
    "    team_members = []\n",
    "    # チームメンバーの名前と説明を文字列に整形\n",
    "    for member in members:\n",
    "        team_members.append(f\"\\n name: {member['name']}\\n description: {member['description']}\")\n",
    "    options = [\"FINISH\"] + member_names  # 終了オプション\n",
    "    \n",
    "    # スーパーバイザー用のプロンプトテンプレートを作成\n",
    "    superviser_prompt = []\n",
    "    superviser_prompt.append({\"role\" : \"system\", \"content\" : \"Given the conversation above, who should act next?\"})\n",
    "    superviser_prompt.append({\"role\" : \"system\", \"content\" : f\" Or should we FINISH? Select one of option: {options}\"})\n",
    "    # team_membersからcontent文字列を作成\n",
    "    content = 'List one of the choices as \"name\" and its description as \"description\" below.'\n",
    "    # チームメンバーの名前と説明を文字列に整形\n",
    "    for member in team_members:\n",
    "        content += f\"\\n name: {member['name']}\\n description: {member['description']}\"\n",
    "        superviser_prompt.append({\"role\" : \"system\", \"content\" : f\"{content}\"})\n",
    "    superviser_prompt.append({\"role\": \"user\", \"content\": 'Please generate JSON from the text of job results. Use \"supervisor_result\" as the schema, and use one of {options} as the key to generate it in the form {\"supervisor_result\": {option}}.'})\n",
    "    superviser_prompt.append({\"role\": \"user\", \"content\": f\"Text of job results: {job_result}\"})\n",
    "    \"\"\"\n",
    "    システム\n",
    "    上記の会話を踏まえて、次に行動すべきは誰ですか？\n",
    "    選ぶ選択肢の一つを\"name\"として、その説明を\"description\"として以下に記載します。\\n name: {member['name']}\\n description: {member['description']}\\n\n",
    "    それとも、終了すべきですか？次の選択肢の中から一つ選んでください: {options}\n",
    "    \n",
    "    user\n",
    "    次のジョブ結果のテキストからJSONを生成してください。「supervisor_result」をスキーマとして使用し、{options}のうちの一つをキーとして使って、形式が{\"supervisor_result\": {option}}となるように生成してください。\n",
    "    ジョブ結果のテキスト: {job_result}\n",
    "    \"\"\"\n",
    "    # スーパーバイザー用のプロンプトテンプレートを作成\n",
    "    response = client.chat.completions.create(\n",
    "        model=model_name, # model = \"deployment_name\".\n",
    "        messages=superviser_prompt,\n",
    "        response_format={ \"type\": \"json_object\" },\n",
    "        temperature=TEMPERATURE,\n",
    "    )\n",
    "    print(response.choices[0].message.content)\n",
    "    # スーパーバイザーの機能をバインドし、JSON出力を解析するパイプラインを作成\n",
    "    return response.choices[0].message.content"
   ]
  },
  {
   "cell_type": "markdown",
   "id": "6931dc31-2778-411e-a88c-2f98585cf844",
   "metadata": {},
   "source": [
    "## Researchエージェントの定義"
   ]
  },
  {
   "cell_type": "code",
   "execution_count": 12,
   "id": "b9907447-2e54-44c1-a46d-5c58a7c9e22f",
   "metadata": {},
   "outputs": [],
   "source": [
    "from duckduckgo_search import DDGS, AsyncDDGS\n",
    "import asyncio\n",
    "\n",
    "# テキスト検索用の関数\n",
    "def search_text(keywords, region='wt-wt', safesearch='moderate', timelimit=None, max_results=5):\n",
    "    with DDGS() as ddgs:\n",
    "        results = [r for r in ddgs.text(keywords, region=region, safesearch=safesearch, timelimit=timelimit, max_results=max_results)]\n",
    "    return results\n",
    "\n",
    "# 画像検索用の関数\n",
    "def search_images(keywords, region='wt-wt', safesearch='moderate', size=None, color=None, max_results=10):\n",
    "    with DDGS() as ddgs:\n",
    "        results = [r for r in ddgs.images(keywords, region=region, safesearch=safesearch, size=size, color=color, max_results=max_results)]\n",
    "    return results\n",
    "\n",
    "# 非同期テキスト検索用の関数\n",
    "def async_search_text(keywords, max_results=10):\n",
    "    with AsyncDDGS() as ddgs:\n",
    "        results = [r for r in ddgs.text(keywords, max_results=max_results)]\n",
    "    return results\n",
    "\n",
    "\n",
    "# # 使用例: テキスト検索\n",
    "# text_results = search_text(question)\n",
    "# for result in text_results:\n",
    "#     print(result)\n",
    "\n",
    "# # 使用例: 画像検索\n",
    "# image_results = search_images('cats', color='Monochrome', max_results=5)\n",
    "# for result in image_results:\n",
    "#     print(result)"
   ]
  },
  {
   "cell_type": "code",
   "execution_count": null,
   "id": "fea6a2ea-6b2b-44d6-82ad-aa45cfe46e8c",
   "metadata": {},
   "outputs": [],
   "source": []
  },
  {
   "cell_type": "markdown",
   "id": "66639ce5-bb17-49c1-820c-e8a7d2d0a2ec",
   "metadata": {},
   "source": [
    "## ノードの定義"
   ]
  },
  {
   "cell_type": "code",
   "execution_count": 13,
   "id": "4edf4171-0e32-4477-88e6-daf6cdff42cc",
   "metadata": {},
   "outputs": [],
   "source": [
    "# チームメンバーの定義\n",
    "\"\"\"\n",
    "Researchノード: Web上から必要な情報を検索し、ユーザーからのリクエストに応じて記事を作成します。\n",
    "Quality Assurance (QA) ノード: 記事の品質が基準を満たしているかをチェックし、満たしていない場合はフィードバックを返します。品質の受け入れ基準は常にこのノードによって決定されます。\n",
    "Writerノード: 世界最高レベルのAIチェッカーでも人間が書いたと判断されるような文章を作成します。\n",
    "Supervisorノード: 会話を管理し、次に動作するワーカーを指示します。全てのタスクが完了したら、「FINISH」と応答します。\n",
    "\"\"\"\n",
    "team_members = [\n",
    "    {\"name\": RESEARCH_NODE,\n",
    "     \"description\": \"Search the web for necessary information and write articles as requested by users.\"},\n",
    "    {\"name\": QUALITY_ASSURANCE_NODE,\n",
    "     \"description\": f\"Check that the quality of the article meets the criteria. If not, return feedback. The acceptability of deliverables is always determined by {QUALITY_ASSURANCE_NODE}.\"},\n",
    "    {\"name\": WRITER_NODE,\n",
    "     \"description\": \"Write articles that even the world's best AI checkers would judge as written by a human.\"},\n",
    "]"
   ]
  },
  {
   "cell_type": "code",
   "execution_count": 14,
   "id": "8fb40d8c-7f71-4460-b9c4-399c279733e0",
   "metadata": {},
   "outputs": [],
   "source": [
    "# Researchノードの定義\n",
    "def research_node(\n",
    "        model_name: str,\n",
    "        job_result: str, # search の結果\n",
    "):\n",
    "    # リサーチエージェントを呼び出し、結果を取得\n",
    "    # あなたは、DuckDuckGo検索エンジンを使って、検索された情報を順番に確認し、ポイントを外さずに思慮深く要約するリサーチアシスタントです。\n",
    "    prompt = [{'role': 'system', 'content': \"You are a research assistant who uses the DuckDuckGo search engine to review the information retrieved in sequence and summarize it thoughtfully without missing the point.\"}]\n",
    "    prompt.append({\"role\": \"system\", \"content\": \"Summary results must be in Japanese.\"})\n",
    "    \n",
    "    research_prompt = create_agent_system(prompt, RESEARCH_NODE)\n",
    "    research_prompt.append({\"role\": \"system\", \"content\": 'Please generate JSON from the following search result text. Generate in the format {\"supervisor_result\": summarized results} using \"search_result\" as the schema and summarized results as the keys.'})\n",
    "    research_prompt.append({\"role\": \"user\", \"content\": 'Please generate JSON from the text of search job results. Use \"research_result\" as the schema, and use one of summarized results as the key to generate it in the form {\"research_result\": summarized results}.'})\n",
    "    research_prompt.append({\"role\": \"user\", \"content\": f\"Text of search job results: {job_result}\"})\n",
    "    \"\"\"\n",
    "    システム\n",
    "    あなたは、DuckDuckGo検索エンジンを使って、検索された情報を順番に確認し、ポイントを外さずに思慮深く要約するリサーチアシスタントです。\n",
    "    要約結果は日本語でなければならない。\n",
    "    \n",
    "    あなたの専門分野に従って自律的に働いてください。使用可能なツールを使ってください\n",
    "    確認のために質問をしないでください\n",
    "    あなたの他のチームメンバーや他のチームも、それぞれの専門分野であなたと協力します\n",
    "    あなたが選ばれたのには理由があります！あなたは以下のチームメンバーの一人です: {team_members}\n",
    "    以下の検索結果のテキストからJSONを生成してください。スキーマとして「search_result」、キーとして「summarized results」を使用し、{\"supervisor_result\": summarized results}の形式で生成してください。\n",
    "    user\n",
    "    以下の検索結果のテキストからJSONを生成する。スキーマとして \"search_result \"を使用し、キーとして要約された結果を使用して、{\"supervisor_result\": 要約された結果}というフォーマットで生成します。\n",
    "    search ジョブ結果のテキスト: {job_result}\n",
    "    \"\"\"\n",
    "    \n",
    "    # Research用のプロンプトテンプレートを作成\n",
    "    response = client.chat.completions.create(\n",
    "        model=model_name, # model = \"deployment_name\".\n",
    "        messages=research_prompt,\n",
    "        response_format={ \"type\": \"json_object\" },\n",
    "        temperature=TEMPERATURE,\n",
    "    )\n",
    "    search_res_str = response.choices[0].message.content\n",
    "    print(search_res_str)\n",
    "    # JSON形式の文字列を辞書に変換\n",
    "    search_res = json.loads(search_res_str)\n",
    "    \n",
    "    # 出力と新しいメッセージをステートに反映\n",
    "    return {\n",
    "        \"output\": search_res[\"research_result\"],\n",
    "        \"messages\": job_result\n",
    "    }"
   ]
  },
  {
   "cell_type": "code",
   "execution_count": 15,
   "id": "0d6b7b03-5d03-465b-b42c-7b659d2b9931",
   "metadata": {},
   "outputs": [
    {
     "name": "stderr",
     "output_type": "stream",
     "text": [
      "/tmp/ipykernel_2501/2308027652.py:6: UserWarning: DDGS running in an async loop. This may cause errors. Use AsyncDDGS instead.\n",
      "  with DDGS() as ddgs:\n"
     ]
    },
    {
     "name": "stdout",
     "output_type": "stream",
     "text": [
      "PM2.5分布予測 地震情報 気象予報士の解説 スキー積雪情報 注目 トップ 北海道地方 道北 稚内市 1時間天気 雪雲の状況は? (関東地方の雨雲レーダー) 注目 稚内市の天気 06日04:00発表 稚内市の注意報： 低温 着氷 今日・明日の天気 3時間天気 1時間天気 2週間天気 今日06日 (火) 明日07日 (水) 明後日08日...\n",
      "【NHK】稚内市｜天気予報 [1時間毎]今日・明日・明後日の天気 全国天気 防災・減災 津波 地震 火山 河川 全国 宗谷地方 稚内市 ハザードマップ このサイトについて 現在地 地域 設定 稚内市 対象エリアに発表中の情報 情報の取得ができませんでした 再読み込みしてください。 地域のNHKより： 情報の取得ができませんでした...\n",
      "稚内市の今日明日の天気 - 日本気象協会 tenki.jp 稚内市の天気 06日16:00発表 今日・明日の天気 3時間天気 1時間天気 2週間天気 今日 02月06日 (火) [友引] 曇 真冬日 最高 -5℃ [+1] 最低 -9℃ [-1] 明日 02月07日 (水) [先負] 曇 真冬日 最高 -5℃ [0] 最低 -7℃ [+2] 16:50現在...\n",
      "稚内市の天気予報。 3時間ごとの天気、降水量、気温などがチェックできます。\n",
      "稚内の現在の天気 (気象観測所の観測結果)を見ることができます。 最小3時間毎の天気や雲の観測のほか、10分ごとに更新される今の気温、風向風速、日照などを見ることができます。 過去10日間の天気と最高最低気温なども見ることができます。\n"
     ]
    }
   ],
   "source": [
    "# 使用例: テキスト検索\n",
    "search = \"\"\n",
    "text_results = search_text(question)\n",
    "for result in text_results:\n",
    "    search += result[\"body\"] + \", \"\n",
    "    print(result[\"body\"])"
   ]
  },
  {
   "cell_type": "code",
   "execution_count": 16,
   "id": "bad5961b-abb1-4f8a-9087-eb0f073ebdfd",
   "metadata": {},
   "outputs": [
    {
     "name": "stdout",
     "output_type": "stream",
     "text": [
      "{\n",
      "  \"research_result\": \"稚内市の天気に関する様々な情報が提供されており、PM2.5分布予測や地震情報、気象予報などが含まれています。また、気象観測所の観測結果や天気予報、現在の天気なども確認できます。\"\n",
      "}\n"
     ]
    },
    {
     "data": {
      "text/plain": [
       "{'output': '稚内市の天気に関する様々な情報が提供されており、PM2.5分布予測や地震情報、気象予報などが含まれています。また、気象観測所の観測結果や天気予報、現在の天気なども確認できます。',\n",
       " 'messages': 'PM2.5分布予測 地震情報 気象予報士の解説 スキー積雪情報 注目 トップ 北海道地方 道北 稚内市 1時間天気 雪雲の状況は? (関東地方の雨雲レーダー) 注目 稚内市の天気 06日04:00発表 稚内市の注意報： 低温 着氷 今日・明日の天気 3時間天気 1時間天気 2週間天気 今日06日 (火) 明日07日 (水) 明後日08日..., 【NHK】稚内市｜天気予報 [1時間毎]今日・明日・明後日の天気 全国天気 防災・減災 津波 地震 火山 河川 全国 宗谷地方 稚内市 ハザードマップ このサイトについて 現在地 地域 設定 稚内市 対象エリアに発表中の情報 情報の取得ができませんでした 再読み込みしてください。 地域のNHKより： 情報の取得ができませんでした..., 稚内市の今日明日の天気 - 日本気象協会 tenki.jp 稚内市の天気 06日16:00発表 今日・明日の天気 3時間天気 1時間天気 2週間天気 今日 02月06日 (火) [友引] 曇 真冬日 最高 -5℃ [+1] 最低 -9℃ [-1] 明日 02月07日 (水) [先負] 曇 真冬日 最高 -5℃ [0] 最低 -7℃ [+2] 16:50現在..., 稚内市の天気予報。 3時間ごとの天気、降水量、気温などがチェックできます。, 稚内の現在の天気 (気象観測所の観測結果)を見ることができます。 最小3時間毎の天気や雲の観測のほか、10分ごとに更新される今の気温、風向風速、日照などを見ることができます。 過去10日間の天気と最高最低気温なども見ることができます。, '}"
      ]
     },
     "execution_count": 16,
     "metadata": {},
     "output_type": "execute_result"
    }
   ],
   "source": [
    "# search_node test\n",
    "research_res = research_node(\n",
    "    MODEL_NAME,\n",
    "    search, # search の結果\n",
    ")\n",
    "research_res"
   ]
  },
  {
   "cell_type": "code",
   "execution_count": 17,
   "id": "46c0c9c2-4f9a-4066-b3fc-b33aff623c1a",
   "metadata": {},
   "outputs": [
    {
     "data": {
      "text/plain": [
       "'稚内市の天気に関する様々な情報が提供されており、PM2.5分布予測や地震情報、気象予報などが含まれています。また、気象観測所の観測結果や天気予報、現在の天気なども確認できます。'"
      ]
     },
     "execution_count": 17,
     "metadata": {},
     "output_type": "execute_result"
    }
   ],
   "source": [
    "research_res['output']"
   ]
  },
  {
   "cell_type": "code",
   "execution_count": 18,
   "id": "eb498e11-a55c-4e61-9440-88bae601fca4",
   "metadata": {},
   "outputs": [],
   "source": [
    "# # writerノードの定義\n",
    "# def writer_node(\n",
    "#         model_name: str,\n",
    "#         job_result: str, # search の要約結果\n",
    "#         objective: str,# 目的\n",
    "#         method=\"Web search\", # method\n",
    "# ):\n",
    "#     # Writerとしての指示を含むシステムメッセージ\n",
    "#     # あなたは文章作成の専門家です。世界最高のAIチェッカーでさえ、人間が書いたと判断するような文章を書くことができます。\n",
    "#     system_message = \"\"\"You are a writing specialist.\n",
    "# You can write sentences that even the world's best AI checkers would judge as written by a human.\"\"\"\n",
    "#     prompt = [{'role': 'system', 'content': system_message}]    \n",
    "#     prompt.append({\"role\": \"system\", \"content\": \"survey report must be in Japanese.\"})\n",
    "    \n",
    "#     writer_prompt = create_agent_system(prompt, WRITER_NODE)\n",
    "#     writer_result = str({\"writer_result\": f\"{objective}\"})\n",
    "#     writer_prompt.append({\"role\": \"system\", \"content\": f'Please generate JSON from the following write result text. Generate in the format {writer_result} using \"writer_result\" as the schema and survey report as the keys.'})\n",
    "\n",
    "#     writer_prompt.append({\"role\": \"user\", \"content\": f'Please generate JSON from the text of search job results. Use \"writer_result\" as the schema, and use one of survey report as the key to generate it in the form {writer_result}.'})\n",
    "#     format_str = f\"\"\"Please use the following format to prepare your survey report.\n",
    "\n",
    "# ## 1. Introduction\n",
    "# - Survey Objective: {objective}\n",
    "# - Survey method: {method}\n",
    "\n",
    "# ## 2. Survey Results\n",
    "# - Data Summary: An overview of the main findings and data.\n",
    "# - Interpretation of results: A detailed explanation of what the survey results mean.\n",
    "\n",
    "# ## 3. Conclusion\n",
    "# - Response to Objectives: Conclusions based on the survey objectives.\n",
    "# - Summary of Key Findings Summary of key findings.\n",
    "\n",
    "# ## 4. Recommendations\n",
    "# Action Plan: Specific recommendations or improvements based on the findings.\n",
    "# Implementation steps: Step-by-step process for putting recommendations into action.\n",
    "# \"\"\"\n",
    "#     writer_prompt.append({\"role\": \"system\", \"content\": format_str})\n",
    "#     writer_prompt.append({\"role\": \"user\", \"content\": f\"Findings for the preparation of the survey report: {job_result}\"})\n",
    "#     \"\"\"\n",
    "#     システム\n",
    "#     あなたは文章作成の専門家です。世界最高のAIチェッカーでさえ、人間が書いたと判断するような文章を書くことができます。\n",
    "#     survey reportは日本語でなければならない。\n",
    "#     以下の検索結果のテキストからJSONを生成してください。スキーマとして「writer_result」、キーとして「summarized results」を使用し、{\"supervisor_result\": summarized results}の形式で生成してください。\n",
    "#     あなたの専門分野に従って自律的に働いてください。使用可能なツールを使ってください\n",
    "#     確認のために質問をしないでください\n",
    "#     あなたの他のチームメンバーや他のチームも、それぞれの専門分野であなたと協力します\n",
    "#     あなたが選ばれたのには理由があります！あなたは以下のチームメンバーの一人です: {team_members}\n",
    "    \n",
    "#     調査報告書の作成には、以下の書式を使用してください。\n",
    "\n",
    "#     ## 1. はじめに\n",
    "#     - 調査目的 object\n",
    "#     - 調査方法 method\n",
    "\n",
    "#     ## 2. 調査結果\n",
    "#     - データ概要：主な調査結果とデータの概要。\n",
    "#     - 結果の解釈： 調査結果が意味するものについての詳細な説明。\n",
    "\n",
    "#     ## 3. 結論\n",
    "#     - 目的に対する回答： 調査目的に基づく結論。\n",
    "#     - 主な調査結果の要約 主な調査結果の要約。\n",
    "\n",
    "#     ## 4. 提言\n",
    "#     行動計画： 調査結果に基づく具体的な推奨事項または改善事項。\n",
    "#     実施手順： 提言を実行に移すための段階的プロセス。\n",
    "\n",
    "#     user\n",
    "#     以下の検索結果のテキストからJSONを生成する。スキーマとして \"write_result \"を使用し、キーとしてsurvey reportを使用して、{\"supervisor_result\": 要約された結果}というフォーマットで生成します。\n",
    "#     調査報告書の作成のための調査結果: {job_result}\n",
    "#     \"\"\"\n",
    "    \n",
    "#     # writer用のプロンプトテンプレートを作成\n",
    "#     response = client.chat.completions.create(\n",
    "#         model=model_name, # model = \"deployment_name\".\n",
    "#         messages=writer_prompt,\n",
    "#         response_format={ \"type\": \"json_object\" },\n",
    "#         temperature=TEMPERATURE,\n",
    "#     )\n",
    "#     writer_res_str = response.choices[0].message.content\n",
    "#     print(writer_res_str)\n",
    "#     # JSON形式の文字列を辞書に変換\n",
    "#     writer_res = json.loads(writer_res_str)\n",
    "    \n",
    "#     # 出力と新しいメッセージをステートに反映\n",
    "#     return {\n",
    "#         \"output\": writer_res[\"writer_result\"],\n",
    "#         \"messages\": job_result\n",
    "#     }\n",
    "\n",
    "# output_search = research_res['output']\n",
    "# objective = \"survey\"\n",
    "# method = \"Web search\"\n",
    "\n",
    "# writer_res = writer_node(\n",
    "#         MODEL_NAME,\n",
    "#         output_search,\n",
    "#         objective,\n",
    "#         method,\n",
    "# )\n",
    "# writer_res"
   ]
  },
  {
   "cell_type": "code",
   "execution_count": 19,
   "id": "d7ca136e-71e3-4fd9-b9fa-1e903ddaacd1",
   "metadata": {},
   "outputs": [],
   "source": [
    "# 品質チェックノードの定義\n",
    "def qa_node(\n",
    "    model_name: str,\n",
    "    question:str, # 検索結果\n",
    "    research_output:str, # 検索結果\n",
    "):\n",
    "    # 品質チェックの指示を含むシステムメッセージ\n",
    "#     system_message = \"\"\"You are a specialist in inspecting the quality of articles. \n",
    "#     Inspect the article to see if it meets the following requirements:\n",
    "\n",
    "#     - The article is written in Japanese.\n",
    "#     - The writing style MUST be such that the AI sentence checker determines that it was written by a HUMAN.\n",
    "#     - The article MUST be written in a way that is easy to understand.\n",
    "#     - The article MUST meet the user's requirements.\n",
    "\n",
    "#     If the evaluation criteria are met, write 'Acceptable'.\n",
    "#     In addition, write the reason why you judged that the evaluation criteria are met.\n",
    "\n",
    "#     If the evaluation criteria are not met, write 'Not Acceptable'.\n",
    "#     In addition, provide feedback on what needs to be done to meet the evaluation criteria.\n",
    "\n",
    "#     DO NOT make excuses such as 'I can't make a decision because I am an AI'.\n",
    "\n",
    "#     The quality of your articles is relevant to your career.\n",
    "#     Please be as rigorous as possible in your inspections and make sure that your feedback is helpful in making corrections.\n",
    "#     \"\"\"\n",
    "    prompt = [{'role': 'system', 'content': \"You are a specialist in inspecting the quality of articles. Inspect the article to see if it meets the following requirements: The article is written in Japanese.\"}]\n",
    "    prompt.append({'role': 'system', 'content': \"You are a specialist in inspecting the quality of articles. Inspect the article to see if it meets the following requirements: The writing style MUST be such that the AI sentence checker determines that it was written by a HUMAN.\"})\n",
    "    prompt.append({'role': 'system', 'content': \"You are a specialist in inspecting the quality of articles. Inspect the article to see if it meets the following requirements: The article MUST be written in a way that is easy to understand.\"})\n",
    "    prompt.append({'role': 'system', 'content': \"You are a specialist in inspecting the quality of articles. Inspect the article to see if it meets the following requirements: The article MUST meet the user's requirements.\"})\n",
    "\n",
    "    prompt.append({'role': 'system', 'content': \"You are a specialist in inspecting the quality of articles. Inspect the article to see if it meets the following requirements: If the evaluation criteria are met, write 'Acceptable'.\"})\n",
    "    prompt.append({'role': 'system', 'content': \"You are a specialist in inspecting the quality of articles. Inspect the article to see if it meets the following requirements: In addition, write the reason why you judged that the evaluation criteria are met.\"})\n",
    "  \n",
    "    prompt.append({'role': 'system', 'content': \"You are a specialist in inspecting the quality of articles. Inspect the article to see if it meets the following requirements: If the evaluation criteria are not met, write 'Not Acceptable'.\"})\n",
    "    prompt.append({'role': 'system', 'content': \"You are a specialist in inspecting the quality of articles. Inspect the article to see if it meets the following requirements: In addition, provide feedback on what needs to be done to meet the evaluation criteria.\"})\n",
    "\n",
    "    prompt.append({'role': 'system', 'content': \"You are a specialist in inspecting the quality of articles. Inspect the article to see if it meets the following requirements: DO NOT make excuses such as 'I can't make a decision because I am an AI'.\"})\n",
    "  \n",
    "    prompt.append({'role': 'system', 'content': \"You are a specialist in inspecting the quality of articles. Inspect the article to see if it meets the following requirements: The quality of your articles is relevant to your career.\"})\n",
    "    prompt.append({'role': 'system', 'content': \"You are a specialist in inspecting the quality of articles. Inspect the article to see if it meets the following requirements: Please be as rigorous as possible in your inspections and make sure that your feedback is helpful in making corrections.\"})\n",
    "\n",
    "    # prompt = [{'role': 'system', 'content': system_message}]\n",
    "    qa_prompt = create_agent_system(prompt, QUALITY_ASSURANCE_NODE)\n",
    "    qa_prompt.append({\"role\": \"user\", \"content\": \"Generate JSON from search result text. Use 'qa_result' as the schema, generate in the format {'qa_result': Acceptable or Not Acceptable}, and key in the evaluation results, such as whether the generated search results describe the user's request.\"})\n",
    "    qa_prompt.append({\"role\": \"user\", \"content\": f\"user's requirements:{question}. search result text: {research_output}\"})\n",
    "    \n",
    "\n",
    "    \"\"\"\n",
    "    評価基準の適用例:\n",
    "    1. 言語と文章スタイルの評価:\n",
    "        - 記事が日本語で書かれているか。\n",
    "        - 文章が人間によって書かれたとAI文章チェッカーに判断させるスタイルであるか。\n",
    "    2. 内容の理解しやすさ:\n",
    "        - 記事の内容が簡潔に、かつ明確に表現されているか。\n",
    "        - 専門用語が適切に説明され、一般の読者も理解できるようになっているか。\n",
    "    3. ユーザーの要件への適合性:\n",
    "        - 記事がユーザーの要求や指定したテーマに沿っているか。\n",
    "        - ユーザーが期待する情報や視点が適切に取り入れられているか。\n",
    "    評価例:\n",
    "    - 受理可能: 記事は全ての評価基準を満たしています。日本語で書かれており、文章スタイルは人間によるものと判断できます。\n",
    "    内容は理解しやすく、ユーザーの要件にも適合しています。これらの点から、記事は受理可能と判断します。\n",
    "    - 受理不可: 記事は一部の評価基準を満たしていません。特に、文章スタイルがAIによって書かれたように見える部分があります。\n",
    "    また、専門用語の説明が不足しているため、内容の理解が難しい箇所があります。これらの問題を解決するためには、人間らしい表現を増やし、専門用語に対する説明を追加する必要があります。\n",
    "    user\n",
    "    検索結果のテキストからJSONを生成する。スキーマとして \"qa_result\"を使用し、{\"qa_result\"： Acceptable or Not Acceptable}の形式で生成し、生成された検索結果をキーとして評価する。\n",
    "    user's requirements:{}. 検索結果のテキスト: {research_output}\n",
    "    \"\"\"\n",
    "    \n",
    "    # Research用のプロンプトテンプレートを作成\n",
    "    response = client.chat.completions.create(\n",
    "        model=model_name, # model = \"deployment_name\".\n",
    "        messages=qa_prompt,\n",
    "        response_format={ \"type\": \"json_object\" },\n",
    "        temperature=TEMPERATURE,\n",
    "    )\n",
    "    qa_res_str = response.choices[0].message.content\n",
    "    print(qa_res_str)\n",
    "    # JSON形式の文字列を辞書に変換\n",
    "    qa_res = json.loads(qa_res_str)\n",
    "    \"\"\"\n",
    "    \"qa_result\": \"Not Acceptable\" だったら戻り値に次の検索ワードを入れるか、質問と分割するかとかしたい\n",
    "    \"\"\"\n",
    "    # 出力と新しいメッセージをステートに反映\n",
    "    return {\n",
    "        \"output\": qa_res[\"qa_result\"]\n",
    "    }"
   ]
  },
  {
   "cell_type": "code",
   "execution_count": 20,
   "id": "7f1ebf87-d4af-4314-a405-928c312565f2",
   "metadata": {},
   "outputs": [],
   "source": [
    "research_output = research_res['output']"
   ]
  },
  {
   "cell_type": "code",
   "execution_count": 21,
   "id": "24b9803b-317f-4148-ba50-703fd680b789",
   "metadata": {},
   "outputs": [
    {
     "name": "stdout",
     "output_type": "stream",
     "text": [
      "{\n",
      "  \"qa_result\": \"Not Acceptable\"\n",
      "}\n"
     ]
    },
    {
     "data": {
      "text/plain": [
       "{'output': 'Not Acceptable'}"
      ]
     },
     "execution_count": 21,
     "metadata": {},
     "output_type": "execute_result"
    }
   ],
   "source": [
    "qa_node(\n",
    "    MODEL_NAME,\n",
    "    question,\n",
    "    research_output\n",
    ")"
   ]
  },
  {
   "cell_type": "code",
   "execution_count": 23,
   "id": "b588f954-5b56-46bf-9bd0-1e3c39222b6d",
   "metadata": {},
   "outputs": [
    {
     "data": {
      "text/plain": [
       "'今日の東京と稚内市の天気を教えてください'"
      ]
     },
     "execution_count": 23,
     "metadata": {},
     "output_type": "execute_result"
    }
   ],
   "source": [
    "# 質問\n",
    "question"
   ]
  },
  {
   "cell_type": "code",
   "execution_count": 22,
   "id": "8b79b888-5b7d-4c5f-b806-9d171d8c5297",
   "metadata": {},
   "outputs": [
    {
     "data": {
      "text/plain": [
       "'稚内市の天気に関する様々な情報が提供されており、PM2.5分布予測や地震情報、気象予報などが含まれています。また、気象観測所の観測結果や天気予報、現在の天気なども確認できます。'"
      ]
     },
     "execution_count": 22,
     "metadata": {},
     "output_type": "execute_result"
    }
   ],
   "source": [
    "# 検索結果\n",
    "research_output"
   ]
  },
  {
   "cell_type": "code",
   "execution_count": null,
   "id": "180baa92-b69f-4188-9b39-dfdc902ed040",
   "metadata": {},
   "outputs": [],
   "source": []
  },
  {
   "cell_type": "code",
   "execution_count": 24,
   "id": "ba9412ff-4427-4a65-9f70-cbf411209515",
   "metadata": {},
   "outputs": [],
   "source": [
    "out = \"東京は晴れ、稚内市は晴れ時々雪です。\""
   ]
  },
  {
   "cell_type": "code",
   "execution_count": 25,
   "id": "72c3e6d5-5764-49a9-87f8-8c915b5d3622",
   "metadata": {},
   "outputs": [
    {
     "name": "stdout",
     "output_type": "stream",
     "text": [
      "{\n",
      "  \"qa_result\": \"Acceptable\"\n",
      "}\n"
     ]
    },
    {
     "data": {
      "text/plain": [
       "{'output': 'Acceptable'}"
      ]
     },
     "execution_count": 25,
     "metadata": {},
     "output_type": "execute_result"
    }
   ],
   "source": [
    "qa_node(\n",
    "    MODEL_NAME,\n",
    "    question,\n",
    "    out\n",
    ")"
   ]
  },
  {
   "cell_type": "code",
   "execution_count": null,
   "id": "63a6396f-e304-49a0-9f77-25a61cfcb6c4",
   "metadata": {},
   "outputs": [],
   "source": []
  }
 ],
 "metadata": {
  "kernelspec": {
   "display_name": "Python 3 (ipykernel)",
   "language": "python",
   "name": "python3"
  },
  "language_info": {
   "codemirror_mode": {
    "name": "ipython",
    "version": 3
   },
   "file_extension": ".py",
   "mimetype": "text/x-python",
   "name": "python",
   "nbconvert_exporter": "python",
   "pygments_lexer": "ipython3",
   "version": "3.10.12"
  }
 },
 "nbformat": 4,
 "nbformat_minor": 5
}
